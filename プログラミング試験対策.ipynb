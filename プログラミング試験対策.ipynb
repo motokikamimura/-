{
  "nbformat": 4,
  "nbformat_minor": 0,
  "metadata": {
    "colab": {
      "name": "プログラミング試験対策",
      "provenance": [],
      "collapsed_sections": [],
      "toc_visible": true
    },
    "kernelspec": {
      "name": "python3",
      "display_name": "Python 3"
    }
  },
  "cells": [
    {
      "cell_type": "code",
      "metadata": {
        "id": "V7JhovAqvtd7",
        "colab": {
          "base_uri": "https://localhost:8080/"
        },
        "outputId": "e1c0ce48-0954-436a-fca4-3fe658317ec9"
      },
      "source": [
        "import math\n",
        "from functools import reduce\n",
        "def lcm_base(x, y):\n",
        "    return (x * y) // math.gcd(x, y)\n",
        "\n",
        "def lcm(*numbers):\n",
        "    return reduce(lcm_base, numbers, 1)\n",
        "def lcm_list(numbers):\n",
        "    return reduce(lcm_base, numbers, 1)\n",
        "\n",
        "N=int(input())\n",
        "print(lcm_list(range(2,N+1))+1)"
      ],
      "execution_count": null,
      "outputs": [
        {
          "output_type": "stream",
          "text": [
            "10\n",
            "2521\n"
          ],
          "name": "stdout"
        }
      ]
    },
    {
      "cell_type": "code",
      "metadata": {
        "id": "egAXm5pKBva7"
      },
      "source": [
        "#ABC002D\n",
        "from itertools import combinations\n",
        "N, M = map(int, input().split())\n",
        "link = [[0 for i in range(N)] for j in range(N)]\n",
        "for m in range(M):\n",
        "    x, y = map(int, input().split())\n",
        "    link[x-1][y-1] = 1\n",
        "    link[y-1][x-1] = 1\n",
        "\n",
        "for i in range(N,1,-1): # N, N-1, N-2, ... 2\n",
        "    for comb in combinations(range(N),i):\n",
        "        for c in combinations(comb, 2): # 議員の集合に対して考えられるペアを列挙\n",
        "            if (link[c[0]][c[1]] == 0): # 一つでも知り合いでない組があればNG\n",
        "                break\n",
        "        else: # 派閥が作れた段階でプログラムを終了\n",
        "            print (i)\n",
        "            exit()\n",
        "print (1)\n",
        "#https://kakedashi-engineer.appspot.com/2020/04/14/abc002d/"
      ],
      "execution_count": null,
      "outputs": []
    },
    {
      "cell_type": "code",
      "metadata": {
        "colab": {
          "base_uri": "https://localhost:8080/"
        },
        "id": "XUjMPpos0V2L",
        "outputId": "1dfb1841-25a5-4650-ab90-012ffcc2756f"
      },
      "source": [
        "N=input()\n",
        "T=input()\n",
        "S=N*3\n"
      ],
      "execution_count": null,
      "outputs": [
        {
          "output_type": "stream",
          "text": [
            "4\n",
            "1011\n"
          ],
          "name": "stdout"
        }
      ]
    },
    {
      "cell_type": "code",
      "metadata": {
        "id": "qOwxUKyW0xPA"
      },
      "source": [
        ""
      ],
      "execution_count": null,
      "outputs": []
    },
    {
      "cell_type": "markdown",
      "metadata": {
        "id": "0Ra5dVIbvrNS"
      },
      "source": [
        "#atcoder 精選10問類題"
      ]
    },
    {
      "cell_type": "code",
      "metadata": {
        "id": "NGuBxMyzwL1-"
      },
      "source": [
        "import itertools\n",
        "N,K=map(int,input().split())\n",
        "T=[list(map(int,input().split())) for _ in range(N)]\n",
        "\n",
        "nums = list(range(1,N))\n",
        "ans = 0\n",
        "for index in itertools.permutations(nums):\n",
        "\tindex = [0]+list(index)\n",
        "\tti = 0\n",
        "\tfor i in range(N):\n",
        "\t\tti+=T[index[i]][index[(i+1)%N]]\n",
        "\tif ti==K:\n",
        "\t\tans+=1\n",
        "print(ans)"
      ],
      "execution_count": null,
      "outputs": []
    },
    {
      "cell_type": "code",
      "metadata": {
        "colab": {
          "base_uri": "https://localhost:8080/"
        },
        "id": "e908LngwwqLp",
        "outputId": "cacdf8a3-14a7-4745-80d5-8aef254c9605"
      },
      "source": [
        "N = int(input())\n",
        "d = [input() for i in range(N)]\n",
        "print(len(set(d)))"
      ],
      "execution_count": null,
      "outputs": [
        {
          "output_type": "stream",
          "text": [
            "3\n",
            "4\n",
            "6\n",
            "1\n",
            "3\n",
            "1\n",
            "1\n",
            "1\n"
          ],
          "name": "stdout"
        }
      ]
    },
    {
      "cell_type": "code",
      "metadata": {
        "colab": {
          "base_uri": "https://localhost:8080/"
        },
        "id": "rcOfohqMxkfJ",
        "outputId": "fb3c8d43-744d-4dd8-cad5-cb409157b0f7"
      },
      "source": [
        "N, Y = map(int, input().split())\n",
        "try:\n",
        "  for x in range(N+1):\n",
        "    for y in range(N-x+1):\n",
        "        z = N-x-y\n",
        "        if 0 <= z <= 2000 and 10000*x+5000*y+1000*z == Y:\n",
        "            print(x, y, z)\n",
        "            exit()\n",
        "except:\n",
        "  print(-1, -1, -1)"
      ],
      "execution_count": null,
      "outputs": [
        {
          "output_type": "stream",
          "text": [
            "9 45000\n",
            "0 9 0\n",
            "4 0 5\n"
          ],
          "name": "stdout"
        }
      ]
    },
    {
      "cell_type": "code",
      "metadata": {
        "colab": {
          "base_uri": "https://localhost:8080/"
        },
        "id": "crkjglZHmcHb",
        "outputId": "d5a4520c-d342-46d5-bad6-6dc1e56b790c"
      },
      "source": [
        "a,b=map(int,input().split())\n",
        "if a*b/2==0:\n",
        "  print('even')\n",
        "else :\n",
        "  print('add')"
      ],
      "execution_count": null,
      "outputs": [
        {
          "output_type": "stream",
          "text": [
            "2 3\n",
            "add\n"
          ],
          "name": "stdout"
        }
      ]
    },
    {
      "cell_type": "code",
      "metadata": {
        "colab": {
          "base_uri": "https://localhost:8080/"
        },
        "id": "jcYt1aQknt02",
        "outputId": "5ee5620b-4f39-46bc-d628-ec905d337363"
      },
      "source": [
        "a,b=map(str,input().split())\n",
        "a+=b\n",
        "A=int(a)\n",
        "if c*c==A:\n",
        "  print(\"Yes\")\n",
        "else:\n",
        "  print('no')\n"
      ],
      "execution_count": null,
      "outputs": [
        {
          "output_type": "stream",
          "text": [
            "12 1\n",
            "Yes\n"
          ],
          "name": "stdout"
        }
      ]
    },
    {
      "cell_type": "markdown",
      "metadata": {
        "id": "wo_J_R4-wPEX"
      },
      "source": [
        "# for 文を使わない程度の全探索string 型"
      ]
    },
    {
      "cell_type": "code",
      "metadata": {
        "id": "Kvf5zkOi0ciS",
        "colab": {
          "base_uri": "https://localhost:8080/"
        },
        "outputId": "7f23833c-e813-4d92-eb0c-cd3d56c43e1a"
      },
      "source": [
        "print(input().count(\"1\"))"
      ],
      "execution_count": null,
      "outputs": [
        {
          "output_type": "stream",
          "text": [
            "101\n",
            "2\n"
          ],
          "name": "stdout"
        }
      ]
    },
    {
      "cell_type": "code",
      "metadata": {
        "colab": {
          "base_uri": "https://localhost:8080/"
        },
        "id": "hYl6MoLkVheX",
        "outputId": "51db477a-c6ca-4561-9d78-ac57b396d0b2"
      },
      "source": [
        "x=list(input())\n",
        "k=700\n",
        "for i in x:\n",
        "  if i=='o':\n",
        "    k+=100\n",
        "print(k)"
      ],
      "execution_count": null,
      "outputs": [
        {
          "output_type": "stream",
          "text": [
            "xox\n",
            "800\n"
          ],
          "name": "stdout"
        }
      ]
    },
    {
      "cell_type": "code",
      "metadata": {
        "colab": {
          "base_uri": "https://localhost:8080/"
        },
        "id": "uzIsXUOXW0aR",
        "outputId": "70e43b4b-dc0a-4d18-e177-042129954f81"
      },
      "source": [
        "date=\"2017/01/\"+input()\n",
        "print(date.replace('2017','2018'))"
      ],
      "execution_count": null,
      "outputs": [
        {
          "output_type": "stream",
          "text": [
            "12\n",
            "2018/01/12\n"
          ],
          "name": "stdout"
        }
      ]
    },
    {
      "cell_type": "code",
      "metadata": {
        "colab": {
          "base_uri": "https://localhost:8080/"
        },
        "id": "odkki-YqXnlI",
        "outputId": "a854acb1-7d53-46c5-bb70-0ff9fef4515c"
      },
      "source": [
        "mozi=input()\n",
        "k=len(mozi[1:-1])\n",
        "print(mozi[0]+'{}'.format(k)+mozi[-1])"
      ],
      "execution_count": null,
      "outputs": [
        {
          "output_type": "stream",
          "text": [
            "eeeeeee\n",
            "e5e\n"
          ],
          "name": "stdout"
        }
      ]
    },
    {
      "cell_type": "code",
      "metadata": {
        "colab": {
          "base_uri": "https://localhost:8080/"
        },
        "id": "8KOnLFWEYcDW",
        "outputId": "9d13685c-b66d-40e1-ba22-371bfd0dba85"
      },
      "source": [
        "s,t=sorted(list(input())),sorted(list(input()),reverse=True)\n",
        "print(\"Yes\" if s<t else \"No\")\n",
        "#082"
      ],
      "execution_count": null,
      "outputs": [
        {
          "output_type": "stream",
          "text": [
            "aaa\n",
            "abc\n",
            "Yes\n"
          ],
          "name": "stdout"
        }
      ]
    },
    {
      "cell_type": "markdown",
      "metadata": {
        "id": "Nsz5IkeYxFfs"
      },
      "source": [
        "#for 文を用いた全探索シミュレーション"
      ]
    },
    {
      "cell_type": "code",
      "metadata": {
        "colab": {
          "base_uri": "https://localhost:8080/"
        },
        "id": "9yR5lPJ2dSUw",
        "outputId": "19f95e4d-1dbf-4327-d763-fa640735c978"
      },
      "source": [
        "N = input()\n",
        "A = list(map(int, input().split()))\n",
        "cnt = 0\n",
        "while all(a%2==0 for a in A):\n",
        "    A = [a/2 for a in A]\n",
        "    cnt += 1\n",
        "print(cnt)"
      ],
      "execution_count": null,
      "outputs": [
        {
          "output_type": "stream",
          "text": [
            "4\n",
            "16 18 20 6\n",
            "1\n"
          ],
          "name": "stdout"
        }
      ]
    },
    {
      "cell_type": "code",
      "metadata": {
        "colab": {
          "base_uri": "https://localhost:8080/"
        },
        "id": "SbXpEkJsloEB",
        "outputId": "c91bfc58-1f0f-4dea-d844-a5c75787c187"
      },
      "source": [
        "N=int(input())\n",
        "ans=[]\n",
        "for i in range(N):\n",
        "  x=bin(i)\n",
        "  ans.append(x[::-1].find('1'))\n",
        "print(2**sorted(ans,reverse=True)[0])"
      ],
      "execution_count": null,
      "outputs": [
        {
          "output_type": "stream",
          "text": [
            "10\n",
            "8\n"
          ],
          "name": "stdout"
        }
      ]
    },
    {
      "cell_type": "code",
      "metadata": {
        "colab": {
          "base_uri": "https://localhost:8080/"
        },
        "id": "GS5uuXxZnEjz",
        "outputId": "011978f6-b683-47c1-9d00-d7ec83c2dc0d"
      },
      "source": [
        "import math\n",
        "N=input()\n",
        "A=list(map(int,input().split()))\n",
        "A=sorted(A)\n",
        "print(A[-1]-A[0])"
      ],
      "execution_count": null,
      "outputs": [
        {
          "output_type": "stream",
          "text": [
            "2\n",
            "12 14 17 0\n",
            "17\n"
          ],
          "name": "stdout"
        }
      ]
    },
    {
      "cell_type": "code",
      "metadata": {
        "colab": {
          "base_uri": "https://localhost:8080/"
        },
        "id": "erf0eWZNtS31",
        "outputId": "7ae097cf-ffd7-4cea-c8d3-0015f7bf89fb"
      },
      "source": [
        "max_num=1\n",
        "min_num=10**9\n",
        "A=list(map(int,input().split()))\n",
        "for i in A:\n",
        "  if max_num < i:\n",
        "    max_num = i\n",
        "  elif min_num>i:\n",
        "    min_num=i\n",
        "print(max_num-min_num)\n"
      ],
      "execution_count": null,
      "outputs": [
        {
          "output_type": "stream",
          "text": [
            "1 2 3 4 5\n",
            "4\n"
          ],
          "name": "stdout"
        }
      ]
    },
    {
      "cell_type": "code",
      "metadata": {
        "colab": {
          "base_uri": "https://localhost:8080/"
        },
        "id": "XbyMPYfCvF-8",
        "outputId": "f04c9f13-99e2-43da-ac93-17bfcb94758a"
      },
      "source": [
        "N=input()\n",
        "T,A=map(int,input().split())\n",
        "H=list(map(int,input().split()))\n",
        "abs_num=[]\n",
        "for i in H:\n",
        "  abs_num.append(abs(A-(T-i*0.006)))\n",
        "print(abs_num.index(min(abs_num))+1)"
      ],
      "execution_count": null,
      "outputs": [
        {
          "output_type": "stream",
          "text": [
            "2\n",
            "12 5\n",
            "1000 2000\n",
            "1\n"
          ],
          "name": "stdout"
        }
      ]
    },
    {
      "cell_type": "code",
      "metadata": {
        "colab": {
          "base_uri": "https://localhost:8080/"
        },
        "id": "3nY5P3_GxWA8",
        "outputId": "12c90d89-20cf-4d87-abc6-46719be0771d"
      },
      "source": [
        "N=int(input())\n",
        "if N%2==0:\n",
        "  print(N//2)\n",
        "else:\n",
        "  print(N//2+1)"
      ],
      "execution_count": null,
      "outputs": [
        {
          "output_type": "stream",
          "text": [
            "5\n",
            "3\n"
          ],
          "name": "stdout"
        }
      ]
    },
    {
      "cell_type": "code",
      "metadata": {
        "colab": {
          "base_uri": "https://localhost:8080/"
        },
        "id": "shL79y6xzRh9",
        "outputId": "6739bf59-1fa4-4308-9182-755c8c508f0b"
      },
      "source": [
        "s=input()\n",
        "print(s[::2])"
      ],
      "execution_count": null,
      "outputs": [
        {
          "output_type": "stream",
          "text": [
            "abcde\n",
            "ace\n"
          ],
          "name": "stdout"
        }
      ]
    },
    {
      "cell_type": "code",
      "metadata": {
        "colab": {
          "base_uri": "https://localhost:8080/"
        },
        "id": "iiEqskIj1BYk",
        "outputId": "3f56f59f-bbe6-44c7-d5dd-233abd232b39"
      },
      "source": [
        "import re\n",
        "s=input()\n",
        "s=s.upper()\n",
        "max_num=0\n",
        "for i in re.findall(r'A.*Z',s):\n",
        "  if max_num<len(i):\n",
        "    max_num=len(i)\n",
        "print(max_num)"
      ],
      "execution_count": null,
      "outputs": [
        {
          "output_type": "stream",
          "text": [
            "HASFJGHOGAKZZFEGA\n",
            "12\n"
          ],
          "name": "stdout"
        }
      ]
    },
    {
      "cell_type": "code",
      "metadata": {
        "colab": {
          "base_uri": "https://localhost:8080/"
        },
        "id": "91srlyTe6WV7",
        "outputId": "c872f4b4-0ba0-4a8a-cac6-0038591e097a"
      },
      "source": [
        "import math\n",
        "H, W = map(int, input().split())\n",
        "S = []\n",
        "for _ in range(H):\n",
        "    S.append(int(input()))\n",
        "    W-=S[_]\n",
        "max_num=0\n",
        "for i in S:\n",
        "  if max_num<math.floor(W/i):\n",
        "    max_num=math.floor(W/i)\n",
        "print(len(S)+max_num)\n",
        "\n"
      ],
      "execution_count": null,
      "outputs": [
        {
          "output_type": "stream",
          "text": [
            "5 3000\n",
            "150\n",
            "130\n",
            "150\n",
            "130\n",
            "110\n",
            "26\n"
          ],
          "name": "stdout"
        }
      ]
    },
    {
      "cell_type": "markdown",
      "metadata": {
        "id": "8AwKgXOFxUob"
      },
      "source": [
        "#for 文を用いた全探索二重三重の for 文"
      ]
    },
    {
      "cell_type": "code",
      "metadata": {
        "colab": {
          "base_uri": "https://localhost:8080/"
        },
        "id": "--fNqb7qAOw9",
        "outputId": "b412f45a-d402-4152-d77e-0387f2b396eb"
      },
      "source": [
        "A = int(input())\n",
        "B = int(input())\n",
        "C = int(input())\n",
        "X = int(input())\n",
        "res=0\n",
        "for  i in range(1,A + 1):\n",
        "    for j in range(1,B + 1):\n",
        "        for k in range(1,C + 1):\n",
        "            if 500*i + 100*j + 50*k == X:\n",
        "                res += 1\n",
        "print(res)"
      ],
      "execution_count": null,
      "outputs": [
        {
          "output_type": "stream",
          "text": [
            "2\n",
            "2\n",
            "2\n",
            "100\n",
            "0\n"
          ],
          "name": "stdout"
        }
      ]
    },
    {
      "cell_type": "code",
      "metadata": {
        "colab": {
          "base_uri": "https://localhost:8080/"
        },
        "id": "WI_0r2tcCGzh",
        "outputId": "4f3297b1-d838-4be2-9fa3-4d1420897b39"
      },
      "source": [
        "N=int(input())\n",
        "ans='No'\n",
        "for i in range(1,10):\n",
        "  for j in range(1,10):\n",
        "    if i*j==N:\n",
        "      ans='yes'\n",
        "    else:\n",
        "      pass\n",
        "print(ans)"
      ],
      "execution_count": null,
      "outputs": [
        {
          "output_type": "stream",
          "text": [
            "100\n",
            "No\n"
          ],
          "name": "stdout"
        }
      ]
    },
    {
      "cell_type": "code",
      "metadata": {
        "colab": {
          "base_uri": "https://localhost:8080/"
        },
        "id": "b4ocuPIQH1NA",
        "outputId": "c2b13b44-ded9-405e-a73f-8cca8dfc9600"
      },
      "source": [
        "def dist(a, b):\n",
        "\tres = 0\n",
        "\tfor i in range(D):\n",
        "\t\tres += (a[i] - b[i]) ** 2\n",
        "\tres = res ** 0.5\n",
        "\treturn res\n",
        "\n",
        "\n",
        "N, D = map(int, input().split())\n",
        "X = [list(map(int, input().split())) for _ in range(N)]\n",
        "ans = 0\n",
        "for i in range(N - 1):\n",
        "\tfor j in range(i + 1, N):\n",
        "\t\tif dist(X[i], X[j]).is_integer():\n",
        "\t\t\tans += 1\n",
        "print(ans)"
      ],
      "execution_count": null,
      "outputs": [
        {
          "output_type": "stream",
          "text": [
            "3 5\n",
            "2 4 2 3 2\n",
            "3 3 3 3 3\n",
            "1 1 1 1 1\n",
            "2\n"
          ],
          "name": "stdout"
        }
      ]
    },
    {
      "cell_type": "code",
      "metadata": {
        "colab": {
          "base_uri": "https://localhost:8080/"
        },
        "id": "9r5GcvqJPaoW",
        "outputId": "300c1071-d200-44e7-a2e8-5f78cced1fd9"
      },
      "source": [
        "N=int(input())\n",
        "l=list(map(int,input().split()))\n",
        "ans=0\n",
        "for a in range(N-2):\n",
        "  for b in range(a,N-1):\n",
        "    for c in range(b,N):\n",
        "      if l[a]!=l[b]!=l[c] and l[a]+l[b]>l[c] and l[a]+l[c]>l[b] and l[b]+l[c]>l[a]:\n",
        "        ans+=1\n",
        "print(ans)\n",
        "        \n",
        "\n"
      ],
      "execution_count": null,
      "outputs": [
        {
          "output_type": "stream",
          "text": [
            "5\n",
            "4 4 9 7 5\n",
            "5\n"
          ],
          "name": "stdout"
        }
      ]
    },
    {
      "cell_type": "code",
      "metadata": {
        "colab": {
          "base_uri": "https://localhost:8080/"
        },
        "id": "SycGwh5oAfIz",
        "outputId": "eed37b47-b5ad-4790-cda1-40b7ae89f58e"
      },
      "source": [
        "N=int(input())\n",
        "ans='No'\n",
        "for i in range(26):\n",
        "  for j in range(15):\n",
        "    if 4*i+7*j==N:\n",
        "      ans='yes'\n",
        "    else:\n",
        "      pass\n",
        "print(ans)"
      ],
      "execution_count": null,
      "outputs": [
        {
          "output_type": "stream",
          "text": [
            "100\n",
            "yes\n"
          ],
          "name": "stdout"
        }
      ]
    },
    {
      "cell_type": "markdown",
      "metadata": {
        "id": "WHvepx3YxxXS"
      },
      "source": [
        "# 整数の 10 進法表記の扱い方for 文"
      ]
    },
    {
      "cell_type": "code",
      "metadata": {
        "id": "7-ysysv7VD92",
        "colab": {
          "base_uri": "https://localhost:8080/"
        },
        "outputId": "781d8cab-7b25-448f-9301-5e6603b9bc62"
      },
      "source": [
        "N, A, B = map(int, input().split())\n",
        "res = 0\n",
        "for i in range(N+1):\n",
        "    if A <= sum([int(s) for s in str(i)]) <= B:\n",
        "        res += i\n",
        "print(res)"
      ],
      "execution_count": null,
      "outputs": [
        {
          "output_type": "stream",
          "text": [
            "5 4 8\n",
            "9\n"
          ],
          "name": "stdout"
        }
      ]
    },
    {
      "cell_type": "code",
      "metadata": {
        "colab": {
          "base_uri": "https://localhost:8080/"
        },
        "id": "LgpDAevQV2lJ",
        "outputId": "eff4754d-dd11-42e3-be48-06cb6eb8bb7c"
      },
      "source": [
        "A,B=map(int,input().split())\n",
        "ans=0\n",
        "for i in range(A,B+1):\n",
        "  if str(i)[0]!=0 and str(i)[0]==str(i)[-1] and str(i)[1]==str(i)[-2]:\n",
        "    ans+=1\n",
        "print(ans)"
      ],
      "execution_count": null,
      "outputs": [
        {
          "output_type": "stream",
          "text": [
            "31415 92653\n",
            "612\n"
          ],
          "name": "stdout"
        }
      ]
    },
    {
      "cell_type": "code",
      "metadata": {
        "colab": {
          "base_uri": "https://localhost:8080/"
        },
        "id": "dJt6iLjtXFVY",
        "outputId": "541a4384-e95d-4a5c-a589-e470c2f2893d"
      },
      "source": [
        "N=int(input())\n",
        "ans=10**5\n",
        "for j in range(N):\n",
        "  for i in range(N):\n",
        "    if j + i ==N:\n",
        "      c=sum([int(s) for s in str(i)])+sum([int(ss) for ss in str(j)])\n",
        "      if c<ans:\n",
        "        ans=c\n",
        "print(ans)"
      ],
      "execution_count": null,
      "outputs": [
        {
          "output_type": "stream",
          "text": [
            "10000\n",
            "10\n"
          ],
          "name": "stdout"
        }
      ]
    },
    {
      "cell_type": "code",
      "metadata": {
        "colab": {
          "base_uri": "https://localhost:8080/"
        },
        "id": "lLXQy7MVaFz4",
        "outputId": "52ee966e-13a3-447b-dcc0-418aca46ff03"
      },
      "source": [
        "N,K=map(int,input().split())\n",
        "def Base_10_to_n(X, n):\n",
        "    X_dumy = X\n",
        "    out = ''\n",
        "    while X_dumy>0:\n",
        "        out = str(X_dumy%n)+out\n",
        "        X_dumy = int(X_dumy/n)\n",
        "    return out\n",
        "print(len(Base_10_to_n(N,K)))"
      ],
      "execution_count": null,
      "outputs": [
        {
          "output_type": "stream",
          "text": [
            "11 2\n",
            "4\n"
          ],
          "name": "stdout"
        }
      ]
    },
    {
      "cell_type": "markdown",
      "metadata": {
        "id": "zppkdQnWyN44"
      },
      "source": [
        "#ソートGreedy"
      ]
    },
    {
      "cell_type": "code",
      "metadata": {
        "colab": {
          "base_uri": "https://localhost:8080/"
        },
        "id": "qgt3M9okbMNw",
        "outputId": "d1038011-7d25-4341-e3f6-12cd91b4e31d"
      },
      "source": [
        "N = int(input())\n",
        "l = list(map(int, input().split()))\n",
        "l.sort(reverse=True)\n",
        "print(sum(l[0::2]) - sum(l[1::2]))"
      ],
      "execution_count": null,
      "outputs": [
        {
          "output_type": "stream",
          "text": [
            "3\n",
            "2 7 4\n",
            "5\n"
          ],
          "name": "stdout"
        }
      ]
    },
    {
      "cell_type": "code",
      "metadata": {
        "colab": {
          "base_uri": "https://localhost:8080/"
        },
        "id": "OQGBGbUsbaJT",
        "outputId": "b805218c-c894-4701-87e0-bd44844caccf"
      },
      "source": [
        "N,K=map(int,input().split())\n",
        "l=list(map(int,input().split()))\n",
        "l.sort(reverse=True)\n",
        "print(sum(l[:K:]))"
      ],
      "execution_count": null,
      "outputs": [
        {
          "output_type": "stream",
          "text": [
            "15 14\n",
            "50 26 27 21 41 7 42 35 7 5 5 36 39 1 45\n",
            "386\n"
          ],
          "name": "stdout"
        }
      ]
    },
    {
      "cell_type": "code",
      "metadata": {
        "colab": {
          "base_uri": "https://localhost:8080/"
        },
        "id": "pYs4Xrwuc1bG",
        "outputId": "79bf6822-3e60-4988-b683-2398169d62f7"
      },
      "source": [
        "N,L=map(int,input().split())\n",
        "S = []\n",
        "for _ in range(N):\n",
        "    S.append(input())\n",
        "S.sort()\n",
        "print(\"\".join(S))"
      ],
      "execution_count": null,
      "outputs": [
        {
          "output_type": "stream",
          "text": [
            "5 4\n",
            "axxx\n",
            "cxxc\n",
            "axxa\n",
            "aaxx\n",
            "aaaa\n",
            "aaaaaaxxaxxaaxxxcxxc\n"
          ],
          "name": "stdout"
        }
      ]
    },
    {
      "cell_type": "code",
      "metadata": {
        "colab": {
          "base_uri": "https://localhost:8080/"
        },
        "id": "rw2OFH7WfTZr",
        "outputId": "92360c86-fb08-4ffd-d687-7fac2147305f"
      },
      "source": [
        "N,x=map(int,input().split())\n",
        "a=list(map(int,input().split()))\n",
        "a.sort(reverse=True)\n",
        "ageru=0\n",
        "ageta=[]\n",
        "for i in a:\n",
        "  if ageru+i>x:\n",
        "      pass\n",
        "  elif ageru+i<x:\n",
        "    ageru+=i\n",
        "    ageta.append(i)\n",
        "  elif ageru+i==x:\n",
        "    ageru+=i\n",
        "    ageta.append(i)\n",
        "print(len(set(ageta)))\n"
      ],
      "execution_count": null,
      "outputs": [
        {
          "output_type": "stream",
          "text": [
            "3 70\n",
            "30 20 10\n",
            "3\n"
          ],
          "name": "stdout"
        }
      ]
    },
    {
      "cell_type": "code",
      "metadata": {
        "colab": {
          "base_uri": "https://localhost:8080/"
        },
        "id": "RkHav3QfnYm_",
        "outputId": "ecd57227-c9fc-45c1-de2b-5036a46a02c4"
      },
      "source": [
        "N=int(input())\n",
        "a=list(map(int,input().split()))\n",
        "a.sort(reverse=True)\n",
        "c=a[N:-N]\n",
        "ans=0\n",
        "for i in c:\n",
        "  ans+=i\n",
        "print(ans)"
      ],
      "execution_count": null,
      "outputs": [
        {
          "output_type": "stream",
          "text": [
            "10\n",
            "1000000000 1000000000 1000000000 1000000000 1000000000 1000000000 1000000000 1000000000 1000000000 1000000000 1000000000 1000000000 1000000000 1000000000 1000000000 1000000000 1000000000 1000000000 1000000000 1000000000 1000000000 1000000000 1000000000 1000000000 1000000000 1000000000 1000000000 1000000000 1000000000 1000000000\n",
            "10000000000\n"
          ],
          "name": "stdout"
        }
      ]
    },
    {
      "cell_type": "markdown",
      "metadata": {
        "id": "j75utyIoyofS"
      },
      "source": [
        "#集計処理バケット法連想配列"
      ]
    },
    {
      "cell_type": "code",
      "metadata": {
        "colab": {
          "base_uri": "https://localhost:8080/"
        },
        "id": "nxG6OtXeqLWY",
        "outputId": "8daf1aab-38fe-4800-cc5e-a713f4139498"
      },
      "source": [
        "N = int(input())\n",
        "l = sorted([input() for _ in range(N)])\n",
        "print(len(set(l)))"
      ],
      "execution_count": null,
      "outputs": [
        {
          "output_type": "stream",
          "text": [
            "4\n",
            "10\n",
            "8\n",
            "8\n",
            "6\n",
            "3\n"
          ],
          "name": "stdout"
        }
      ]
    },
    {
      "cell_type": "code",
      "metadata": {
        "colab": {
          "base_uri": "https://localhost:8080/"
        },
        "id": "go8bKpJ1qfx1",
        "outputId": "11b5b418-8bfd-496b-ffa8-6e01a24151c9"
      },
      "source": [
        "import string\n",
        "def func(x):\n",
        "    diff = set(string.ascii_lowercase) - set(x)\n",
        "    if diff:\n",
        "        print(sorted(diff)[0])\n",
        "    else:\n",
        "        print('None')\n",
        "S=input().lower()\n",
        "func(S)"
      ],
      "execution_count": null,
      "outputs": [
        {
          "output_type": "stream",
          "text": [
            "atcoderregularcontest\n",
            "b\n"
          ],
          "name": "stdout"
        }
      ]
    },
    {
      "cell_type": "code",
      "metadata": {
        "colab": {
          "base_uri": "https://localhost:8080/"
        },
        "id": "Nqz1xnEEr9YD",
        "outputId": "61cc3414-c9e2-417e-c5fb-d61682026e88"
      },
      "source": [
        "n,m=map(int,input().split())\n",
        "x=[0]*n\n",
        "for i in range(m):\n",
        "    y,z=map(int,input().split())\n",
        "    x[y-1]+=1\n",
        "    x[z-1]+=1\n",
        "for i in range(n):\n",
        "    print(x[i])"
      ],
      "execution_count": null,
      "outputs": [
        {
          "output_type": "stream",
          "text": [
            "4 3\n",
            "1 2\n",
            "2 3\n",
            "1 4\n",
            "2\n",
            "2\n",
            "1\n",
            "1\n"
          ],
          "name": "stdout"
        }
      ]
    },
    {
      "cell_type": "code",
      "metadata": {
        "colab": {
          "base_uri": "https://localhost:8080/"
        },
        "id": "MmaVWP9HzQZX",
        "outputId": "f5601489-de84-4dea-e799-2657a111f8b1"
      },
      "source": [
        "W,H,N=map(int,input().split())\n",
        "D=[[] for i in range(2)]\n",
        "for i in range(1,W+1):\n",
        "  D[0].append(i)\n",
        "for i in range(1,H+1):\n",
        "  D[1].append(i)\n",
        "for i in range(N):\n",
        "  x,y,a=map(int,input().split())\n",
        "  if a==1:\n",
        "    D[0]=([i for i in D[0] if i>x])\n",
        "  elif a==2:\n",
        "    D[0]=([i for i in D[0] if i<=x]) \n",
        "  elif a==3:\n",
        "    D[1]=([i for i in D[1] if i>y])\n",
        "  elif a==4:\n",
        "    D[1]=([i for i in D[1] if i<=y])\n",
        "print(len(D[0])*len(D[1]))\n"
      ],
      "execution_count": null,
      "outputs": [
        {
          "output_type": "stream",
          "text": [
            "10 10 5\n",
            "1 6 1\n",
            "4 1 3\n",
            "6 9 4\n",
            "9 4 2\n",
            "3 1 3\n",
            "64\n"
          ],
          "name": "stdout"
        }
      ]
    },
    {
      "cell_type": "code",
      "metadata": {
        "colab": {
          "base_uri": "https://localhost:8080/"
        },
        "id": "pk0lZvrVIZId",
        "outputId": "6eb54cc3-ada1-436f-da44-2d63fdd4878c"
      },
      "source": [
        "N=int(input())\n",
        "s=[0]*N\n",
        "from collections import defaultdict\n",
        "d = defaultdict(int)\n",
        "for i in range(N):\n",
        "  s[i]=input()\n",
        "  d[s[i]]+=1\n",
        "M=int(input())\n",
        "t=[0]*M\n",
        "for i in range(M):\n",
        "  t[i]=input()\n",
        "  d[t[i]]-=1\n",
        "max=0\n",
        "for i in d:\n",
        "  if max<d[i]:\n",
        "    max=d[i]\n",
        "print(max)"
      ],
      "execution_count": null,
      "outputs": [
        {
          "output_type": "stream",
          "text": [
            "1\n",
            "a\n",
            "10\n",
            "a\n",
            "a\n",
            "a\n",
            "a\n",
            "a\n",
            "a\n",
            "a\n",
            "a\n",
            "a\n",
            "a\n",
            "0\n"
          ],
          "name": "stdout"
        }
      ]
    },
    {
      "cell_type": "code",
      "metadata": {
        "colab": {
          "base_uri": "https://localhost:8080/"
        },
        "id": "N3fRdV6nOMuQ",
        "outputId": "689b9cb3-e6ab-4523-a116-3dd26f9e87ac"
      },
      "source": [
        "N,K=map(int,input().split())\n",
        "A=list(map(int,input().split()))\n",
        "from collections import defaultdict\n",
        "d = defaultdict(int)\n",
        "for i in A:\n",
        "  d[i]+=1\n",
        "d=sorted(d.items(),key=lambda v:v[1],reverse=True)\n",
        "ans=0\n",
        "for i in d[K:]:\n",
        "  ans+=i[1]\n",
        "print(ans)"
      ],
      "execution_count": null,
      "outputs": [
        {
          "output_type": "stream",
          "text": [
            "10 3\n",
            "5 1 3 2 4 1 1 2 3 4\n",
            "3\n"
          ],
          "name": "stdout"
        }
      ]
    },
    {
      "cell_type": "markdown",
      "metadata": {
        "id": "Sv4YkCBKyy9G"
      },
      "source": [
        "#for 文を用いた全探索二重三重の for 文少し工夫が必要"
      ]
    },
    {
      "cell_type": "code",
      "metadata": {
        "colab": {
          "base_uri": "https://localhost:8080/"
        },
        "id": "rhNpDTY7VuWa",
        "outputId": "9f7587b0-fc80-4979-b916-5c71ff06e18c"
      },
      "source": [
        "N, Y = map(int, input().split())\n",
        "res = (-1, -1, -1)\n",
        "for x in range(N + 1):\n",
        "    for y in range(N + 1 - x):\n",
        "        if N - x - y >= 0 and 10000*x + 5000*y + 1000*(N - x - y) == Y:\n",
        "            res = (x, y, N - x - y)\n",
        "print(res[0], res[1], res[2])"
      ],
      "execution_count": null,
      "outputs": [
        {
          "output_type": "stream",
          "text": [
            "9 45000\n",
            "4 0 5\n"
          ],
          "name": "stdout"
        }
      ]
    },
    {
      "cell_type": "code",
      "metadata": {
        "colab": {
          "base_uri": "https://localhost:8080/"
        },
        "id": "oLii0xeQWK4r",
        "outputId": "54809059-9d15-48c0-bcee-a4b2ea3ade5d"
      },
      "source": [
        "c=[list(map(int,input().split())) for i in range(3)]\n",
        "x=c[0][2]-c[0][1]#c-b\n",
        "y=c[0][1]-c[0][0]#b-a\n",
        "for i in range(1,3):\n",
        "    if c[i][1]-c[i][0]!=y:\n",
        "        print(\"No\")\n",
        "        break\n",
        "    if c[i][2]-c[i][1]!=x:\n",
        "        print(\"No\")\n",
        "        break\n",
        "else:\n",
        "    print(\"Yes\")\n",
        "#088"
      ],
      "execution_count": null,
      "outputs": [
        {
          "output_type": "stream",
          "text": [
            "0 8 8\n",
            "0 8 8 \n",
            "0 8 8 \n",
            "Yes\n"
          ],
          "name": "stdout"
        }
      ]
    },
    {
      "cell_type": "code",
      "metadata": {
        "colab": {
          "base_uri": "https://localhost:8080/"
        },
        "id": "IVJDK8-Ud_2f",
        "outputId": "ef8dce36-629e-4fed-b442-5705c8517d30"
      },
      "source": [
        "A,B,C,X,Y=map(int,input().split())\n",
        "if 2*C<=A+B:\n",
        "  if X>Y:\n",
        "    print(2*C*Y+(X-Y)*A)\n",
        "  else:\n",
        "    print(2*C*X+(Y-X)*B)\n",
        "else:\n",
        "  print(A*X+B*Y)"
      ],
      "execution_count": null,
      "outputs": [
        {
          "output_type": "stream",
          "text": [
            "1500 2000 500 90000 100000\n",
            "110000000\n"
          ],
          "name": "stdout"
        }
      ]
    },
    {
      "cell_type": "code",
      "metadata": {
        "colab": {
          "base_uri": "https://localhost:8080/"
        },
        "id": "eV_4HeaioRiC",
        "outputId": "0cd594ed-db3c-48a8-da60-75c1d67bd8ee"
      },
      "source": [
        "N=int(input())\n",
        "F=[]\n",
        "for A in range(1,N+1):\n",
        "  if N%A==0:\n",
        "    B=N//A\n",
        "    if len(str(A))>len(str(B)):\n",
        "      F.append(len(str(A)))\n",
        "    else:\n",
        "      F.append(len(str(B)))\n",
        "min=N\n",
        "for i in F:\n",
        "  if min>i:\n",
        "    min=i\n",
        "print(min)\n"
      ],
      "execution_count": null,
      "outputs": [
        {
          "output_type": "stream",
          "text": [
            "10000\n",
            "3\n"
          ],
          "name": "stdout"
        }
      ]
    },
    {
      "cell_type": "code",
      "metadata": {
        "colab": {
          "base_uri": "https://localhost:8080/",
          "height": 328
        },
        "id": "suRGWZILtSdQ",
        "outputId": "b8a3550e-489b-48fc-91dc-31752ae9e0d9"
      },
      "source": [
        "def dist(a, b, x, y, h):\n",
        "    return h + abs(a - x) + abs(b - y)\n",
        "\n",
        "N = int(input())\n",
        "P = []\n",
        "for i in range(N):\n",
        "    x, y, h = map(int, input().split())\n",
        "    P.append([h, x, y])\n",
        "P.sort(reverse = True)\n",
        "\n",
        "for i in range(101):\n",
        "    for j in range(101):\n",
        "        H = dist(i, j, P[0][1], P[0][2], P[0][0])\n",
        "        for p in P[1:]:\n",
        "          ans=max(H - (abs(p[1]-i))-(abs(p[2]-j)), 0)\n",
        "          if a != p[0]:\n",
        "                break\n",
        "          else:\n",
        "            print(i, j, H)\n",
        "            break\n",
        "#112"
      ],
      "execution_count": null,
      "outputs": [
        {
          "output_type": "stream",
          "text": [
            "4\n",
            "2 3 5\n",
            "2 1 5\n",
            "3 2 5\n",
            "1 2 5\n"
          ],
          "name": "stdout"
        },
        {
          "output_type": "error",
          "ename": "TypeError",
          "evalue": "ignored",
          "traceback": [
            "\u001b[0;31m---------------------------------------------------------------------------\u001b[0m",
            "\u001b[0;31mTypeError\u001b[0m                                 Traceback (most recent call last)",
            "\u001b[0;32m<ipython-input-14-ee646a5611ac>\u001b[0m in \u001b[0;36m<module>\u001b[0;34m()\u001b[0m\n\u001b[1;32m     13\u001b[0m         \u001b[0mH\u001b[0m \u001b[0;34m=\u001b[0m \u001b[0mdist\u001b[0m\u001b[0;34m(\u001b[0m\u001b[0mi\u001b[0m\u001b[0;34m,\u001b[0m \u001b[0mj\u001b[0m\u001b[0;34m,\u001b[0m \u001b[0mP\u001b[0m\u001b[0;34m[\u001b[0m\u001b[0;36m0\u001b[0m\u001b[0;34m]\u001b[0m\u001b[0;34m[\u001b[0m\u001b[0;36m1\u001b[0m\u001b[0;34m]\u001b[0m\u001b[0;34m,\u001b[0m \u001b[0mP\u001b[0m\u001b[0;34m[\u001b[0m\u001b[0;36m0\u001b[0m\u001b[0;34m]\u001b[0m\u001b[0;34m[\u001b[0m\u001b[0;36m2\u001b[0m\u001b[0;34m]\u001b[0m\u001b[0;34m,\u001b[0m \u001b[0mP\u001b[0m\u001b[0;34m[\u001b[0m\u001b[0;36m0\u001b[0m\u001b[0;34m]\u001b[0m\u001b[0;34m[\u001b[0m\u001b[0;36m0\u001b[0m\u001b[0;34m]\u001b[0m\u001b[0;34m)\u001b[0m\u001b[0;34m\u001b[0m\u001b[0;34m\u001b[0m\u001b[0m\n\u001b[1;32m     14\u001b[0m         \u001b[0;32mfor\u001b[0m \u001b[0mp\u001b[0m \u001b[0;32min\u001b[0m \u001b[0mP\u001b[0m\u001b[0;34m[\u001b[0m\u001b[0;36m1\u001b[0m\u001b[0;34m:\u001b[0m\u001b[0;34m]\u001b[0m\u001b[0;34m:\u001b[0m\u001b[0;34m\u001b[0m\u001b[0;34m\u001b[0m\u001b[0m\n\u001b[0;32m---> 15\u001b[0;31m           \u001b[0mans\u001b[0m\u001b[0;34m=\u001b[0m\u001b[0mmax\u001b[0m\u001b[0;34m(\u001b[0m\u001b[0mH\u001b[0m \u001b[0;34m-\u001b[0m \u001b[0;34m(\u001b[0m\u001b[0mabs\u001b[0m\u001b[0;34m(\u001b[0m\u001b[0mp\u001b[0m\u001b[0;34m[\u001b[0m\u001b[0;36m1\u001b[0m\u001b[0;34m]\u001b[0m\u001b[0;34m-\u001b[0m\u001b[0mi\u001b[0m\u001b[0;34m)\u001b[0m\u001b[0;34m)\u001b[0m\u001b[0;34m-\u001b[0m\u001b[0;34m(\u001b[0m\u001b[0mabs\u001b[0m\u001b[0;34m(\u001b[0m\u001b[0mp\u001b[0m\u001b[0;34m[\u001b[0m\u001b[0;36m2\u001b[0m\u001b[0;34m]\u001b[0m\u001b[0;34m-\u001b[0m\u001b[0mj\u001b[0m\u001b[0;34m)\u001b[0m\u001b[0;34m)\u001b[0m\u001b[0;34m,\u001b[0m \u001b[0;36m0\u001b[0m\u001b[0;34m)\u001b[0m\u001b[0;34m\u001b[0m\u001b[0;34m\u001b[0m\u001b[0m\n\u001b[0m\u001b[1;32m     16\u001b[0m           \u001b[0;32mif\u001b[0m \u001b[0ma\u001b[0m \u001b[0;34m!=\u001b[0m \u001b[0mp\u001b[0m\u001b[0;34m[\u001b[0m\u001b[0;36m0\u001b[0m\u001b[0;34m]\u001b[0m\u001b[0;34m:\u001b[0m\u001b[0;34m\u001b[0m\u001b[0;34m\u001b[0m\u001b[0m\n\u001b[1;32m     17\u001b[0m                 \u001b[0;32mbreak\u001b[0m\u001b[0;34m\u001b[0m\u001b[0;34m\u001b[0m\u001b[0m\n",
            "\u001b[0;31mTypeError\u001b[0m: 'int' object is not callable"
          ]
        }
      ]
    },
    {
      "cell_type": "markdown",
      "metadata": {
        "id": "bPELCrgZy8-2"
      },
      "source": [
        "#Greedy アルゴリズム端から決まって行く Greedy アルゴリズム後ろから解く"
      ]
    },
    {
      "cell_type": "code",
      "metadata": {
        "colab": {
          "base_uri": "https://localhost:8080/"
        },
        "id": "PfjwugrtyeDf",
        "outputId": "354f84b7-898e-4ec5-d435-7e1417294277"
      },
      "source": [
        "given = [\"dreamer\", \"dream\", \"eraser\", \"erase\"]\n",
        "S = input()\n",
        "while len(S) > 0:\n",
        "    judge = [S.endswith(i) for i in given]\n",
        "    if any(judge):\n",
        "        target = given[judge.index(True)]\n",
        "        S = S[:-len(target)]\n",
        "        if len(S) == 0:\n",
        "            print(\"YES\")\n",
        "            break\n",
        "    else:\n",
        "        print(\"NO\")\n",
        "        break"
      ],
      "execution_count": null,
      "outputs": [
        {
          "output_type": "stream",
          "text": [
            "erasedream\n",
            "YES\n"
          ],
          "name": "stdout"
        }
      ]
    },
    {
      "cell_type": "code",
      "metadata": {
        "colab": {
          "base_uri": "https://localhost:8080/"
        },
        "id": "3T_Q4dfhLXCH",
        "outputId": "19b7b9d9-1728-41ea-ce1e-3b18cd48c591"
      },
      "source": [
        "def main():\n",
        "    n = int(input())\n",
        "    a = [int(i) for i in input().split()]\n",
        "    ans = 0\n",
        "    i = 0\n",
        "    while i < n:\n",
        "        # 右隣が同じにならないようにする\n",
        "        while i+1 < n and a[i] == a[i+1]:\n",
        "            i+=1\n",
        "        # i は n-1 で抜けてくるので、下には引っかからない\n",
        "        # 右隣の数の方が大きかったら\n",
        "        if i+1 < n and a[i] < a[i+1]:\n",
        "            # 右隣の方が小さくなるまで、次に進める\n",
        "            while i+1 < n and a[i] <= a[i+1]:\n",
        "                i += 1\n",
        "        # 右隣の数の方が小さかったら\n",
        "        elif i+1 < n and a[i] > a[i+1]:\n",
        "            # 右隣の数が大きくなるまで、次に進める\n",
        "            while i+1 < n and a[i] >= a[i+1]:\n",
        "                i += 1\n",
        "        # a[i]まで切り取る\n",
        "        ans += 1\n",
        "        # i をインクリメントして、新しい配列の先頭とする\n",
        "        i += 1\n",
        "    print(ans)\n",
        "if __name__ == '__main__':\n",
        "    main()\n",
        "#AGC013"
      ],
      "execution_count": null,
      "outputs": [
        {
          "output_type": "stream",
          "text": [
            "9\n",
            "1 2 1 2 1 2 1 2 1\n",
            "5\n"
          ],
          "name": "stdout"
        }
      ]
    },
    {
      "cell_type": "code",
      "metadata": {
        "colab": {
          "base_uri": "https://localhost:8080/"
        },
        "id": "QjwfcfYFPLc5",
        "outputId": "bb4ae627-0d57-4a77-fd0c-54e6d6d0cf7b"
      },
      "source": [
        "# AGC011 A Airport Bus\n",
        "import bisect\n",
        "from collections import deque\n",
        "\n",
        "n, c, k = map(int, input().split())\n",
        "t_list = [int(input()) for _ in range(n)]\n",
        "\n",
        "t_list.sort()\n",
        "t_list = deque(t_list)\n",
        "ans = 0\n",
        "\n",
        "while len(t_list) > 0:\n",
        "    _tmp = t_list.popleft() + k#popで要素返して＋ｋ\n",
        "    _idx = bisect.bisect_right(t_list, _tmp)#入る場所探し\n",
        "    if c-1 <= _idx:#ｃ－１よりでかいとｃ－１まで（データの参照なのでｃ－１）\n",
        "        for _ in range(c-1):\n",
        "            t_list.popleft()\n",
        "    else:\n",
        "        for _ in range(_idx-1):#ｃより小さいとこっち\n",
        "            t_list.popleft()\n",
        "    ans += 1\n",
        "\n",
        "print(ans)"
      ],
      "execution_count": null,
      "outputs": [
        {
          "output_type": "stream",
          "text": [
            "5 3 5\n",
            "1\n",
            "3\n",
            "6\n",
            "12\n",
            "15\n",
            "3\n"
          ],
          "name": "stdout"
        }
      ]
    },
    {
      "cell_type": "code",
      "metadata": {
        "colab": {
          "base_uri": "https://localhost:8080/"
        },
        "id": "pyIGCpOGemZm",
        "outputId": "bc5f0470-69b3-40fa-d1e0-4927ca807965"
      },
      "source": [
        "import copy\n",
        "n=int(input())\n",
        "a1=[int(i) for i in input().split()]\n",
        "a2=copy.deepcopy(a1)\n",
        "#累積和求めてる\n",
        "for i in range(1,n):\n",
        "    a1[i]+=a1[i-1]\n",
        "for i in range(1,n):\n",
        "    a2[i]+=a2[i-1]\n",
        "#pmはその時点で+や-をどのくらいしてるかを記録しcは回数を記録している\n",
        "#1の方は偶数番目の項が正、2の方は奇数番目の項が正(0オリジン)\n",
        "pm1,c1=0,0\n",
        "pm2,c2=0,0\n",
        "\n",
        "for i in range(n):\n",
        "    a1[i]+=pm1\n",
        "    if i%2==1:\n",
        "        if a1[i]>=0:\n",
        "            pm1-=(a1[i]+1)\n",
        "            c1+=(a1[i]+1)\n",
        "    else:\n",
        "        if a1[i]<=0:\n",
        "            pm1+=(-a1[i]+1)\n",
        "            c1+=(-a1[i]+1)\n",
        "\n",
        "for i in range(n):\n",
        "    a2[i]+=pm2\n",
        "    if i%2==0:\n",
        "        if a2[i]>=0:\n",
        "            pm2-=(a2[i]+1)\n",
        "            c2+=(a2[i]+1)\n",
        "    else:\n",
        "        if a2[i]<=0:\n",
        "            pm2+=(-a2[i]+1)\n",
        "            c2+=(-a2[i]+1)\n",
        "\n",
        "print(min(c1,c2))\n",
        "#059"
      ],
      "execution_count": null,
      "outputs": [
        {
          "output_type": "stream",
          "text": [
            "4\n",
            "1 -3 1 0\n",
            "[1, -2, -1, -1]\n"
          ],
          "name": "stdout"
        }
      ]
    },
    {
      "cell_type": "code",
      "metadata": {
        "colab": {
          "base_uri": "https://localhost:8080/"
        },
        "id": "kx0IXV9igB9a",
        "outputId": "ce873336-6f57-4311-b6a9-686ef82397a8"
      },
      "source": [
        "n = int(input())\n",
        "cnt = [0] * 10**5\n",
        "a = list(map(int, input().split()))\n",
        "for v in a:\n",
        "    cnt[v] += 1\n",
        "    cnt[v+1] += 1\n",
        "    cnt[v+2] += 1\n",
        "    \n",
        "print(max(cnt))\n",
        "#ABC072"
      ],
      "execution_count": null,
      "outputs": [
        {
          "output_type": "stream",
          "text": [
            "10\n",
            " 0 1 2 3 4 5 6 7 8 9\n",
            "3\n"
          ],
          "name": "stdout"
        }
      ]
    },
    {
      "cell_type": "markdown",
      "metadata": {
        "id": "k9JjD0FPzauD"
      },
      "source": [
        "#パリティ"
      ]
    },
    {
      "cell_type": "code",
      "metadata": {
        "id": "dIgB3xh4_rvG"
      },
      "source": [
        "import sys\n",
        "\n",
        "def main(lines):\n",
        "    # このコードは標準入力と標準出力を用いたサンプルコードです。\n",
        "    # このコードは好きなように編集・削除してもらって構いません。\n",
        "    # ---\n",
        "    # This is a sample code to use stdin and stdout.\n",
        "    # Edit and remove this code as you like.\n",
        "\n",
        "    for i, v in enumerate(lines):\n",
        "        print(\"line[{0}]: {1}\".format(i, v))\n",
        "\n",
        "if __name__ == '__main__':\n",
        "    lines = []\n",
        "    for l in sys.stdin:\n",
        "        lines.append(l.rstrip('\\r\\n'))\n",
        "    main(lines)"
      ],
      "execution_count": null,
      "outputs": []
    },
    {
      "cell_type": "code",
      "metadata": {
        "colab": {
          "base_uri": "https://localhost:8080/"
        },
        "id": "1Uo1P2hGF8M_",
        "outputId": "eb03c872-f286-4da4-8a19-e88313883ba2"
      },
      "source": [
        "n=1000\n",
        "ans=0\n",
        "for i in range(1000):\n",
        "  for j in range(i,1000):\n",
        "    for z in range(j,1000):\n",
        "      ans+=1\n",
        "print(ans)"
      ],
      "execution_count": null,
      "outputs": [
        {
          "output_type": "stream",
          "text": [
            "167167000\n"
          ],
          "name": "stdout"
        }
      ]
    },
    {
      "cell_type": "code",
      "metadata": {
        "colab": {
          "base_uri": "https://localhost:8080/"
        },
        "id": "lXhOyxrY_sg-",
        "outputId": "d656a667-bff6-45aa-8fd4-65b5bc13f068"
      },
      "source": [
        "n=int(input())\n",
        "a=list(map(int,input().split()))\n",
        "def max_nums(k):\n",
        "    max_num=-float('inf')\n",
        "    for i in range(len(k)):\n",
        "      if k[i]>max_num:\n",
        "        max_num=k[i]\n",
        "    return max_num\n",
        "for i in range(n):\n",
        "    k=a.copy()\n",
        "    k.pop(i)\n",
        "    print(max_nums(k))"
      ],
      "execution_count": null,
      "outputs": [
        {
          "output_type": "stream",
          "text": [
            "3\n",
            "1 2 3\n",
            "3\n",
            "[2, 3]\n",
            "3\n",
            "[1, 3]\n",
            "2\n",
            "[1, 2]\n"
          ],
          "name": "stdout"
        }
      ]
    },
    {
      "cell_type": "code",
      "metadata": {
        "colab": {
          "base_uri": "https://localhost:8080/"
        },
        "id": "oQ2nvYFOB-p6",
        "outputId": "d5569c68-c245-40ab-a890-ad61e6afd236"
      },
      "source": [
        "print(k)"
      ],
      "execution_count": null,
      "outputs": [
        {
          "output_type": "stream",
          "text": [
            "9\n"
          ],
          "name": "stdout"
        }
      ]
    },
    {
      "cell_type": "code",
      "metadata": {
        "id": "1vyBt_cwi8Nq"
      },
      "source": [
        "N = int(input())\n",
        "a = list(map(int, input().split()))\n",
        " \n",
        "set_a = set(a)\n",
        "cnt = [0] * (max(a)+1)\n",
        "ans = 0\n",
        " \n",
        "for i in a:\n",
        "    cnt[i] += 1\n",
        " \n",
        "if len(cnt) == 1:\n",
        "    print(cnt[0])\n",
        "elif len(cnt) == 2:\n",
        "    print(sum(cnt))\n",
        "else:\n",
        "    for i in range(1, max(a)):\n",
        "        ans = max(ans, cnt[i-1]+cnt[i]+cnt[i+1])\n",
        "\n",
        "    print(ans)\n",
        "#別解"
      ],
      "execution_count": null,
      "outputs": []
    },
    {
      "cell_type": "code",
      "metadata": {
        "colab": {
          "base_uri": "https://localhost:8080/"
        },
        "id": "w97vUeGci0kr",
        "outputId": "43da6771-f28d-4641-9649-a347d50351e8"
      },
      "source": [
        "#偶奇の関係性\n",
        "N = int(input())\n",
        "for _ in range(N):\n",
        "    t, x, y = map(int, input().split())\n",
        "    if x + y > t or (t + x)%2 != y%2:\n",
        "        print(\"No\")\n",
        "        quit()\n",
        "print(\"Yes\")\n",
        "#abc086"
      ],
      "execution_count": null,
      "outputs": [
        {
          "output_type": "stream",
          "text": [
            "2\n",
            "3 1 2\n",
            "6 1 1\n",
            "Yes\n"
          ],
          "name": "stdout"
        }
      ]
    },
    {
      "cell_type": "code",
      "metadata": {
        "colab": {
          "base_uri": "https://localhost:8080/"
        },
        "id": "5HujFbpciXjX",
        "outputId": "c68638f0-53ab-4281-ae3e-2446e2c4fdd4"
      },
      "source": [
        "a,b,c=map(int,input().split())\n",
        "if a%2==b%2 and b%2==c%2:\n",
        "    x=sorted([a,b,c])\n",
        "    print((x[2]-x[1])//2+(x[2]-x[0])//2)\n",
        "elif a%2==b%2:\n",
        "    a+=1\n",
        "    b+=1\n",
        "    x=sorted([a,b,c])\n",
        "    print((x[2]-x[1])//2+(x[2]-x[0])//2+1)\n",
        "elif b%2==c%2:\n",
        "    b+=1\n",
        "    c+=1\n",
        "    x=sorted([a,b,c])\n",
        "    print((x[2]-x[1])//2+(x[2]-x[0])//2+1)\n",
        "else:\n",
        "    c+=1\n",
        "    a+=1\n",
        "    x=sorted([a,b,c])\n",
        "    print((x[2]-x[1])//2+(x[2]-x[0])//2+1)\n",
        "#2demo1demosikousuukawarann"
      ],
      "execution_count": null,
      "outputs": [
        {
          "output_type": "stream",
          "text": [
            "2 5 4\n",
            "2\n"
          ],
          "name": "stdout"
        }
      ]
    },
    {
      "cell_type": "code",
      "metadata": {
        "colab": {
          "base_uri": "https://localhost:8080/"
        },
        "id": "sLZNHMEMyxG-",
        "outputId": "82dd23c8-6bb2-40af-dc9c-26e2ac2b68d0"
      },
      "source": [
        "#AGC10\n",
        "N=int(input())\n",
        "A=list(map(int,input().split()))\n",
        "ans=0\n",
        "for a in A:\n",
        "  ans+=a\n",
        "if ans%2==0:\n",
        "  print('Yes')\n",
        "else:\n",
        "  print('No')"
      ],
      "execution_count": null,
      "outputs": [
        {
          "output_type": "stream",
          "text": [
            "3\n",
            "1 2 3\n",
            "Yes\n"
          ],
          "name": "stdout"
        }
      ]
    },
    {
      "cell_type": "code",
      "metadata": {
        "id": "kS_zf8QV3i4Y"
      },
      "source": [
        "N, A, B = map(int,input().split())\n",
        "if (B-1-A) % 2 == 0:\n",
        "    print(\"Borys\")\n",
        "else:\n",
        "    print(\"Alice\")\n",
        "#実際に書く"
      ],
      "execution_count": null,
      "outputs": []
    },
    {
      "cell_type": "code",
      "metadata": {
        "colab": {
          "base_uri": "https://localhost:8080/"
        },
        "id": "97uNLzNF33lT",
        "outputId": "435dd7c1-8dcc-4bb3-f4e6-a2ec5c60fc72"
      },
      "source": [
        "N=int(input())\n",
        "ans=0\n",
        "set=list()\n",
        "for i in range(N):\n",
        "  a=int(input())\n",
        "  try:\n",
        "    set.remove(a)\n",
        "  except:\n",
        "    set.append(a)\n",
        "print(len(set))\n",
        "\n"
      ],
      "execution_count": null,
      "outputs": [
        {
          "output_type": "stream",
          "text": [
            "6\n",
            "12\n",
            "22\n",
            "16\n",
            "22\n",
            "18\n",
            "22\n",
            "4\n"
          ],
          "name": "stdout"
        }
      ]
    },
    {
      "cell_type": "markdown",
      "metadata": {
        "id": "9plFZhnSzyWG"
      },
      "source": [
        "#グリッドに関する処理"
      ]
    },
    {
      "cell_type": "code",
      "metadata": {
        "colab": {
          "base_uri": "https://localhost:8080/"
        },
        "id": "rR193RWt9Nfv",
        "outputId": "f5035e2b-71fe-4cf4-fcab-79fb0dcb8a38"
      },
      "source": [
        "# 入力\n",
        "H,W=map(int,input().split())\n",
        "\n",
        "l=[]\n",
        "for i in range(H):\n",
        "  l.append(list(input()))\n",
        "\n",
        "for i in range(H):\n",
        "  for j in range(W):\n",
        "    # 地雷数のカウンタ\n",
        "    c=0\n",
        "\n",
        "    # '#'の場合はなにもしない\n",
        "    if l[i][j]=='#':\n",
        "      pass\n",
        "\n",
        "    # '#'以外の場合\n",
        "    else:\n",
        "      # 左上\n",
        "      if 0<i and 0<j and l[i-1][j-1]=='#':\n",
        "        c+=1\n",
        "      # 上\n",
        "      if 0<i and l[i-1][j]=='#':\n",
        "        c+=1\n",
        "      # 右上\n",
        "      if 0<i and j<W-1 and l[i-1][j+1]=='#':\n",
        "        c+=1\n",
        "      # 左\n",
        "      if 0<j and l[i][j-1]=='#':\n",
        "        c+=1\n",
        "      # 右\n",
        "      if j<W-1 and l[i][j+1]=='#':\n",
        "        c+=1\n",
        "      # 左下\n",
        "      if i<H-1 and 0<j and l[i+1][j-1]=='#':\n",
        "        c+=1\n",
        "      # 下\n",
        "      if i<H-1 and l[i+1][j]=='#':\n",
        "        c+=1\n",
        "      # 右下\n",
        "      if i<H-1 and j<W-1 and l[i+1][j+1]=='#':\n",
        "        c+=1\n",
        "\n",
        "      # 地雷隣接数を記載\n",
        "      l[i][j]=str(c)\n",
        "\n",
        "# 出力\n",
        "for i in range(H):\n",
        "  print(''.join(l[i]))"
      ],
      "execution_count": null,
      "outputs": [
        {
          "output_type": "stream",
          "text": [
            "3 5\n",
            ".....\n",
            ".#.#.\n",
            ".....\n",
            "11211\n",
            "1#2#1\n",
            "11211\n"
          ],
          "name": "stdout"
        }
      ]
    },
    {
      "cell_type": "code",
      "metadata": {
        "colab": {
          "base_uri": "https://localhost:8080/"
        },
        "id": "6SrGVmLr-mD8",
        "outputId": "a08cc6b8-2547-413d-88ae-4b7556d24f75"
      },
      "source": [
        "H,W=map(int,input().split())\n",
        "l=[]\n",
        "for i in range(H):\n",
        "  l.append(list(input()))\n",
        "for i in range(H):\n",
        "  for j in range(W):\n",
        "    if l[i][j]=='#':\n",
        "      if i>0 and i<H-1 and j>0  and j<W-1 and l[i-1][j]==l[i+1][j]==l[i][j-1]==l[i][j+1]=='.':\n",
        "        print('no')\n",
        "        break\n",
        "  else:\n",
        "    continue\n",
        "  break\n",
        "else:\n",
        "  print('Yes')"
      ],
      "execution_count": null,
      "outputs": [
        {
          "output_type": "stream",
          "text": [
            "5 5\n",
            ".#.#.\n",
            "#.#.#\n",
            ".#.#.\n",
            "#.#.#\n",
            ".#.#.\n"
          ],
          "name": "stdout"
        }
      ]
    },
    {
      "cell_type": "code",
      "metadata": {
        "colab": {
          "base_uri": "https://localhost:8080/"
        },
        "id": "qWWoC1A1TuMa",
        "outputId": "939a4547-ee9b-42f8-c1a8-051956d221f3"
      },
      "source": [
        "#深さ\n",
        "import sys\n",
        "sys.setrecursionlimit(10**7) #再帰関数の呼び出し制限\n",
        "h,w = map(int,input().split())\n",
        "c = [list(input()) for i in range(h)]\n",
        "\n",
        "def dfs(x,y):\n",
        "    if not(0 <= x < h) or not(0 <= y < w) or c[x][y] == \"#\": # 壁に当たったり、探索範囲外になった場合はreturn\n",
        "        return\n",
        "    if c[x][y] == \"g\": # ゴールを見つけたら”Yes”を出力して終了\n",
        "        print(\"Yes\")\n",
        "        exit()\n",
        "        \n",
        "    c[x][y] = \"#\" #探索済みを示すためのマーキング\n",
        "    dfs(x+1,y)\n",
        "    dfs(x-1,y)\n",
        "    dfs(x,y+1)\n",
        "    dfs(x,y-1)\n",
        "\n",
        "for i in range(h):\n",
        "    for j in range(w):\n",
        "        if c[i][j] == \"s\":\n",
        "            sx, sy = i, j # スタート位置\n",
        "            \n",
        "try:\n",
        "  dfs(sx, sy)\n",
        "except:\n",
        "  print(\"No\")\n",
        "#hukasaATC001"
      ],
      "execution_count": null,
      "outputs": [
        {
          "output_type": "stream",
          "text": [
            "10 10\n",
            "s.........\n",
            "#########.\n",
            "#.......#.\n",
            "#..####.#.\n",
            "##....#.#.\n",
            "#####.#.#.\n",
            "g.#.#.#.#.\n",
            "#.#.#.#.#.\n",
            "#.#.#.#.#.\n",
            "#.....#...\n",
            "Yes\n"
          ],
          "name": "stdout"
        }
      ]
    },
    {
      "cell_type": "code",
      "metadata": {
        "colab": {
          "base_uri": "https://localhost:8080/"
        },
        "id": "2WPgEGQoVwCS",
        "outputId": "3a031aaa-6c0d-4ec8-8a32-42f27b2325b5"
      },
      "source": [
        "import copy\n",
        "def dfs(x, y):\n",
        "    field[x][y] = \"x\"\n",
        "    for i in range(4):\n",
        "        nx = x + dx[i]\n",
        "        ny = y + dy[i]\n",
        "        if 0 <= nx < 10 and 0 <= ny < 10 and field[nx][ny] == \"o\":\n",
        "            dfs(nx, ny)\n",
        "A = [list(input()) for i in range(10)]\n",
        "dx = [1, 0, -1, 0]\n",
        "dy = [0, 1, 0, -1]\n",
        "for p in range(10):\n",
        "    for q in range(10):\n",
        "        if A[p][q] == \"x\":\n",
        "            field = copy.deepcopy(A)\n",
        "            field[p][q] = \"o\"#ここで1つ埋め立てる\n",
        "            count = 0\n",
        "            for i in range(10):\n",
        "                for j in range(10):\n",
        "                    if field[i][j] == \"o\":\n",
        "                        dfs(i, j)\n",
        "                        count += 1#2つ目の埋め立てが必要かどうか\n",
        "            if count == 1:\n",
        "                print(\"YES\")\n",
        "                exit(0)\n",
        "print(\"NO\")"
      ],
      "execution_count": null,
      "outputs": [
        {
          "output_type": "stream",
          "text": [
            "xxxxxxxxxx\n",
            "xoooooooxx\n",
            "xxoooooxxx\n",
            "xxxoooxxxx\n",
            "xxxxxxxxxx\n",
            "xxxxxxxxxx\n",
            "xxxxxxxxxx\n",
            "xxxoooxxxx\n",
            "xxoooooxxx\n",
            "xxxxxxxxxx\n",
            "NO\n"
          ],
          "name": "stdout"
        }
      ]
    },
    {
      "cell_type": "code",
      "metadata": {
        "id": "GfYQ99VLcDxY"
      },
      "source": [
        "import copy\n",
        "init_field = list(list(input()) for _ in range(10))\n",
        "un_stepped_field = list(list(False for _ in range(10)) for _ in range(10))\n",
        "\n",
        "\n",
        "def count_continent(field):\n",
        "    continent_count = 0\n",
        "    for line in field:\n",
        "        continent_count += line.count(\"o\")\n",
        "    return continent_count\n",
        "\n",
        "\n",
        "def count_stepped_field(pre_counted_field):\n",
        "    stepped_count = 0\n",
        "    for line in pre_counted_field:\n",
        "        stepped_count += line.count(True)\n",
        "    return stepped_count\n",
        "\n",
        "\n",
        "def search(y, x):\n",
        "    # マップ外やぞ。\n",
        "    if x < 0 or x >= 10 or y < 0 or y >= 10:\n",
        "        return\n",
        "    # 海歩いてるで。\n",
        "    if field[y][x] == \"x\":\n",
        "        return\n",
        "    # 前にここ来たで。\n",
        "    if stepped_field[y][x]:\n",
        "        return\n",
        "    stepped_field[y][x] = True\n",
        "\n",
        "    # ここで四方に探索\n",
        "    search(y+1, x)\n",
        "    search(y-1, x)\n",
        "    search(y,   x+1)\n",
        "    search(y,   x-1)\n",
        "\n",
        "\n",
        "for i in range(10):\n",
        "    for j in range(10):\n",
        "        stepped_field = copy.deepcopy(un_stepped_field)\n",
        "        field = copy.deepcopy(init_field)\n",
        "\n",
        "        # 埋立地作るよ。 \n",
        "        if field[j][i] == \"x\":\n",
        "            field[j][i] = \"o\"\n",
        "\n",
        "        # 探索開始なり。\n",
        "        search(j, i)\n",
        "\n",
        "        # 探索したマスの数が陸地の数と一致すれば題意を満たす。\n",
        "        if count_stepped_field(stepped_field) == count_continent(field):\n",
        "            print(\"YES\")\n",
        "            exit()\n",
        "\n",
        "print(\"NO\")"
      ],
      "execution_count": null,
      "outputs": []
    },
    {
      "cell_type": "code",
      "metadata": {
        "id": "7iCr56jS1_eL"
      },
      "source": [
        ""
      ],
      "execution_count": null,
      "outputs": []
    },
    {
      "cell_type": "markdown",
      "metadata": {
        "id": "YUdVoBQV0P9c"
      },
      "source": [
        "# 区間の重なりを求める処理"
      ]
    },
    {
      "cell_type": "code",
      "metadata": {
        "colab": {
          "base_uri": "https://localhost:8080/"
        },
        "id": "moSPuewYDJbb",
        "outputId": "99a448bb-ba06-4fb2-ea67-509f47a32657"
      },
      "source": [
        "A,B,C,D=map(int,input().split())\n",
        "if B-C>0:\n",
        "  if A<C and B<D:\n",
        "    print(B-C)\n",
        "  elif A<C and B>D:\n",
        "    print(D-C)\n",
        "  elif A>C and B<D:\n",
        "    print(B-A)\n",
        "  elif A>C and B>D:\n",
        "    print(D-A)\n",
        "else:\n",
        "  print(0)"
      ],
      "execution_count": null,
      "outputs": [
        {
          "output_type": "stream",
          "text": [
            "10 90 20 80\n",
            "60\n"
          ],
          "name": "stdout"
        }
      ]
    },
    {
      "cell_type": "markdown",
      "metadata": {
        "id": "-jmyjI0T0XjX"
      },
      "source": [
        "# \t途中計算ごとに % をとってよいことを理解しましょう"
      ]
    },
    {
      "cell_type": "code",
      "metadata": {
        "colab": {
          "base_uri": "https://localhost:8080/"
        },
        "id": "7TQIuLOdFC47",
        "outputId": "a469fbbe-63b4-42f4-b9b8-74bf41139c6d"
      },
      "source": [
        "N=int(input())\n",
        "import math\n",
        "print(math.factorial(N)%(10**9+7))"
      ],
      "execution_count": null,
      "outputs": [
        {
          "output_type": "stream",
          "text": [
            "10\n",
            "3628800\n"
          ],
          "name": "stdout"
        }
      ]
    },
    {
      "cell_type": "code",
      "metadata": {
        "colab": {
          "base_uri": "https://localhost:8080/"
        },
        "id": "1IlwYNXmm5I4",
        "outputId": "863fa106-5493-4fab-b269-b594eb816637"
      },
      "source": [
        "MOD = 10 ** 9 + 7\n",
        "\n",
        "N = int(input())\n",
        "\n",
        "ans = pow(10, N, MOD)\n",
        "ans -= 2 * pow(9, N, MOD)\n",
        "ans += pow(8, N, MOD)\n",
        "ans %= MOD # 最後にMODを取り忘れないように気をつけましょう\n",
        "\n",
        "print(ans)\n",
        "#powでべき乗\n",
        "#割り算は途中で余りを出してもよし\n",
        "#pow(x,y,z)これは、xyをzで割った余りを返すという計算になります。"
      ],
      "execution_count": null,
      "outputs": [
        {
          "output_type": "stream",
          "text": [
            "869121\n",
            "2511445\n"
          ],
          "name": "stdout"
        }
      ]
    },
    {
      "cell_type": "markdown",
      "metadata": {
        "id": "K44q4AGT0g50"
      },
      "source": [
        "# 数学的問題"
      ]
    },
    {
      "cell_type": "code",
      "metadata": {
        "colab": {
          "base_uri": "https://localhost:8080/"
        },
        "id": "_XPKqx7WGcu2",
        "outputId": "e93876bb-3453-4e6c-f17f-18224acbbd2a"
      },
      "source": [
        "N,K=map(int,input().split())\n",
        "print(K*(K-1)**(N-1))"
      ],
      "execution_count": null,
      "outputs": [
        {
          "output_type": "stream",
          "text": [
            "10 8\n",
            "322828856\n"
          ],
          "name": "stdout"
        }
      ]
    },
    {
      "cell_type": "code",
      "metadata": {
        "colab": {
          "base_uri": "https://localhost:8080/"
        },
        "id": "aEhM4EQ2HImf",
        "outputId": "5f964ba3-df50-41b8-9641-c67fe84d3c7f"
      },
      "source": [
        "a,b,x=map(int,input().split())\n",
        "ans=0\n",
        "for i in range(a,b+1):\n",
        "  if i%x==0:\n",
        "    ans+=1\n",
        "print(ans)"
      ],
      "execution_count": null,
      "outputs": [
        {
          "output_type": "stream",
          "text": [
            "9 9 2\n",
            "0\n"
          ],
          "name": "stdout"
        }
      ]
    },
    {
      "cell_type": "markdown",
      "metadata": {
        "id": "7jNxb_WS0q6C"
      },
      "source": [
        "#状態がループするシミュレーション処理"
      ]
    },
    {
      "cell_type": "code",
      "metadata": {
        "colab": {
          "base_uri": "https://localhost:8080/"
        },
        "id": "Gm9zqAQ3IiKB",
        "outputId": "de5fb758-6406-45be-b9f9-cb7e7bcc6244"
      },
      "source": [
        "a,b,x=map(int,input().split())\n",
        "ans=b/x-a/x\n",
        "print(ans)"
      ],
      "execution_count": null,
      "outputs": [
        {
          "output_type": "stream",
          "text": [
            "1 1000000000000000000 3\n",
            "3.333333333333333e+17\n"
          ],
          "name": "stdout"
        }
      ]
    },
    {
      "cell_type": "code",
      "metadata": {
        "colab": {
          "base_uri": "https://localhost:8080/"
        },
        "id": "yHNcsrncIxoq",
        "outputId": "609bbca9-2557-46b0-9522-161e60a3b69a"
      },
      "source": [
        "A,B,C=map(int,input().split())\n",
        "if (A*B+C)%2==1:\n",
        "  print('No')\n",
        "else:\n",
        "  print('Yes')\n"
      ],
      "execution_count": null,
      "outputs": [
        {
          "output_type": "stream",
          "text": [
            "77 42 36\n",
            "Yes\n"
          ],
          "name": "stdout"
        }
      ]
    },
    {
      "cell_type": "code",
      "metadata": {
        "colab": {
          "base_uri": "https://localhost:8080/"
        },
        "id": "eURcMjZtLVWK",
        "outputId": "78e56e58-9f5f-4c8d-b58e-355b6d5d94ce"
      },
      "source": [
        "import fractions\n",
        "a,b,c=map(int,input().split())\n",
        "d=fractions.gcd(a,b)\n",
        "\n",
        "if c%d==0:\n",
        "    print(\"YES\")\n",
        "else:\n",
        "    print(\"NO\")\n",
        "#ABC060"
      ],
      "execution_count": null,
      "outputs": [
        {
          "output_type": "stream",
          "text": [
            "77 42 36\n",
            "NO\n"
          ],
          "name": "stdout"
        },
        {
          "output_type": "stream",
          "text": [
            "/usr/local/lib/python3.6/dist-packages/ipykernel_launcher.py:3: DeprecationWarning: fractions.gcd() is deprecated. Use math.gcd() instead.\n",
            "  This is separate from the ipykernel package so we can avoid doing imports until\n"
          ],
          "name": "stderr"
        }
      ]
    },
    {
      "cell_type": "code",
      "metadata": {
        "colab": {
          "base_uri": "https://localhost:8080/"
        },
        "id": "6MBgrsoxHUQw",
        "outputId": "79cebd1a-e178-44bd-85a7-33a780d953bb"
      },
      "source": [
        "# 入力\n",
        "A,B,C=map(int,input().split())\n",
        "\n",
        "# 余りの出現回数を保存する配列\n",
        "l=[0]*100\n",
        "\n",
        "# Aに掛ける係数\n",
        "t=1\n",
        "\n",
        "while True:\n",
        "  # 余りを求める\n",
        "  x=t*A%B\n",
        "\n",
        "  # 余りがCと一致したら終了\n",
        "  if x==C:\n",
        "    print('YES')\n",
        "    break\n",
        "\n",
        "  # 余りが2回以上出現したら終了\n",
        "  elif l[x]>0:\n",
        "    print('NO')\n",
        "    break\n",
        "\n",
        "  # 余りの出現回数をインクリメント\n",
        "  else:\n",
        "    l[x]+=1\n",
        "\n",
        "  # Aに掛ける係数を+1する（次のAの倍数へ）\n",
        "  t+=1"
      ],
      "execution_count": null,
      "outputs": [
        {
          "output_type": "stream",
          "text": [
            "40 98 58\n",
            "YES\n"
          ],
          "name": "stdout"
        }
      ]
    },
    {
      "cell_type": "code",
      "metadata": {
        "colab": {
          "base_uri": "https://localhost:8080/"
        },
        "id": "Mid3_l5pNQGX",
        "outputId": "a4844b38-c78c-4e45-ab70-7ec597e4d0c5"
      },
      "source": [
        "#ABC060\n",
        "n=int(input())\n",
        "a=[int(input())-1 for i in range(n)]\n",
        "now=0\n",
        "x=[0]*n\n",
        "i=0\n",
        "while x[now]==0:#2週に突入したらやめる\n",
        "    i+=1\n",
        "    x[now]=1\n",
        "    now=a[now]\n",
        "    if now==1:#-1してある　②ボタン目が点灯した時の転移回数\n",
        "        print(i)\n",
        "        break\n",
        "else:\n",
        "    print(-1)"
      ],
      "execution_count": null,
      "outputs": [
        {
          "output_type": "stream",
          "text": [
            "3\n",
            "3\n",
            "1\n",
            "2\n",
            "2\n"
          ],
          "name": "stdout"
        }
      ]
    },
    {
      "cell_type": "code",
      "metadata": {
        "id": "DU2vOkjr5YMr"
      },
      "source": [
        "#ABC183 c\n",
        "#全部の順列を試す場合　from itertools import permutations\n",
        "from itertools import permutations\n",
        "\n",
        "N, K = map(int, input().split())\n",
        "T = []\n",
        "\n",
        "for _ in range(N):\n",
        "    s = list(map(int, input().split()))\n",
        "    T.append(s)\n",
        "\n",
        "ans = 0\n",
        "\n",
        "for per in permutations(range(1, N)):#こうすることで都市０からどこへ移動するのかの処理から開始\n",
        "    score = 0  # 今回の訪問順でかかった時間です\n",
        "    prev = 0  # 最初は都市0からスタートします\n",
        "    for i in range(N - 1):\n",
        "        cur = per[i]#組み合わせiコ目でああるperの1つ目～3つ目\n",
        "        score += T[prev][cur]  # 都市prevから都市curに向かいます\n",
        "        prev = cur\n",
        "    score += T[prev][0]  # 最後に都市0へ行きます\n",
        "\n",
        "    if score == K:\n",
        "        # K ちょうど で一周できた場合、答えに+1します\n",
        "        ans += 1\n",
        "\n",
        "print(ans)"
      ],
      "execution_count": null,
      "outputs": []
    },
    {
      "cell_type": "markdown",
      "metadata": {
        "id": "XTmF2jog003_"
      },
      "source": [
        "# 累積和"
      ]
    },
    {
      "cell_type": "code",
      "metadata": {
        "colab": {
          "base_uri": "https://localhost:8080/"
        },
        "id": "KHO-GBjJuKZU",
        "outputId": "fd5879df-dd66-4ef6-b893-96a2fee5c9bf"
      },
      "source": [
        "MOD = 10**9 + 7\n",
        "S = int(input())\n",
        "\n",
        "dp = [0] * (S+1)\n",
        "dp[0] = 1\n",
        "for i in range(1, S+1):\n",
        "    for j in range(0, (i-3)+1):\n",
        "        dp[i] += dp[j]\n",
        "        dp[i] %= MOD\n",
        "\n",
        "print(dp[S])\n",
        "#abc178D"
      ],
      "execution_count": null,
      "outputs": [
        {
          "output_type": "stream",
          "text": [
            "1729\n",
            "294867501\n"
          ],
          "name": "stdout"
        }
      ]
    },
    {
      "cell_type": "code",
      "metadata": {
        "id": "0EeRuKp9KOJL"
      },
      "source": [
        "N = int(input())\n",
        "A = list(map(int, input().split()))\n",
        "\n",
        "cumA = A[:]\n",
        "for i in range(1, N):\n",
        "    cumA[i] += cumA[i-1]\n",
        "\n",
        "max_cumA = cumA[:]\n",
        "for i in range(1, N):\n",
        "    max_cumA[i] = max(max_cumA[i], max_cumA[i-1])\n",
        "\n",
        "now_point = 0\n",
        "max_point = 0\n",
        "for i in range(N):\n",
        "    max_point = max(max_point, now_point + max_cumA[i])\n",
        "    now_point += cumA[i]\n",
        "\n",
        "print(max_point)\n",
        "#解けなかったABC182D\n",
        "#1. 累積和をとる(cumA)\n",
        "#2. 累積和の各indexまでのmaxのリストをとる(max_cumA)\n",
        "#3. max_cumAを使って最大到達地点(max_point)を更新していく"
      ],
      "execution_count": null,
      "outputs": []
    },
    {
      "cell_type": "code",
      "metadata": {
        "id": "tnNFH4sgRaA8"
      },
      "source": [
        "n=int(input())\n",
        "a=[list(map(int,input().split())) for i in range(2)]\n",
        "ans=0\n",
        "for i in range(n):\n",
        "    ans=max(ans,sum(a[0][:(i+1)])+sum(a[1][i:]))\n",
        "print(ans)\n",
        "#087"
      ],
      "execution_count": null,
      "outputs": []
    },
    {
      "cell_type": "code",
      "metadata": {
        "colab": {
          "base_uri": "https://localhost:8080/"
        },
        "id": "1z2XjptaShHA",
        "outputId": "7713135b-266b-4a18-9489-1e39503d17dd"
      },
      "source": [
        "N=int(input())\n",
        "S=list(input())\n",
        "ans=N\n",
        "for i in range(N):\n",
        "  ans=min(ans,S[:i].count(\"W\")+S[i+1:].count(\"E\"))\n",
        "print(ans)"
      ],
      "execution_count": null,
      "outputs": [
        {
          "output_type": "stream",
          "text": [
            "8\n",
            "WWWWWEEE\n",
            "3\n"
          ],
          "name": "stdout"
        }
      ]
    },
    {
      "cell_type": "markdown",
      "metadata": {
        "id": "s6VccVNQ1jWy"
      },
      "source": [
        "#bit 全探索"
      ]
    },
    {
      "cell_type": "code",
      "metadata": {
        "colab": {
          "base_uri": "https://localhost:8080/"
        },
        "id": "FUKkhEyj6Oyh",
        "outputId": "d6ab10a0-3d26-438d-aa9d-284949788353"
      },
      "source": [
        "#bin(10) => '0b1010'\n",
        "n = int(input())\n",
        "t = [int(input()) for i in range(n)]\n",
        "\n",
        "ans = 10**9\n",
        "\n",
        "for i in range(2**n):\n",
        "    tmp = bin(i)[2:].zfill(n)\n",
        "    a = []\n",
        "    b = []\n",
        "    for j in range(n):\n",
        "        if tmp[j] == '0':\n",
        "            a.append(t[j])\n",
        "        else:\n",
        "            b.append(t[j])\n",
        "    ans = min(ans,max(sum(a),sum(b)))\n",
        "print(ans)\n",
        "#焼き肉"
      ],
      "execution_count": null,
      "outputs": [
        {
          "output_type": "stream",
          "text": [
            "4\n",
            "4\n",
            "6\n",
            "7\n",
            "10\n",
            "14\n"
          ],
          "name": "stdout"
        }
      ]
    },
    {
      "cell_type": "code",
      "metadata": {
        "id": "ADQM5RxupbG9"
      },
      "source": [
        "#ABC104\n",
        "import math\n",
        "d,g=map(int,input().split())\n",
        "pc=[list(map(int,input().split())) for i in range(d)]\n",
        "ans=10000000000000000000\n",
        "for i in range(1<<d):\n",
        "    s=0\n",
        "    ans_=0\n",
        "    for j in range(d):\n",
        "        if (i>>j)&1:\n",
        "            s+=(pc[j][1]+pc[j][0]*100*(j+1))\n",
        "            ans_+=pc[j][0]\n",
        "    if s>=g:\n",
        "        ans=min(ans,ans_)\n",
        "    else:\n",
        "        for j in range(d-1,-1,-1):\n",
        "            if not((i>>j)&1):\n",
        "                if s+(pc[j][0]*100*(j+1))>=g:\n",
        "                    h=-((s-g)//(100*(j+1)))\n",
        "                    s+=(h*100*(j+1))\n",
        "                    ans_+=h\n",
        "                    ans=min(ans,ans_)\n",
        "                    break\n",
        "                else:\n",
        "                    break\n",
        "print(ans)"
      ],
      "execution_count": null,
      "outputs": []
    },
    {
      "cell_type": "code",
      "metadata": {
        "colab": {
          "base_uri": "https://localhost:8080/"
        },
        "id": "7KEs91eBW-0X",
        "outputId": "e94b7f74-827c-475d-f819-e55517b529a4"
      },
      "source": [
        "A,B,C,D=map(int,input().split())\n",
        "if A + B + C +D ==7:\n",
        "  print(\"{0}+{1}+{2}+{3}=7\".format(A,B,C,D))\n",
        "elif A + B + C -D ==7:\n",
        "  print(\"{0}+{1}+{2}-{3}=7\".format(A,B,C,D))\n",
        "elif A + B - C -D ==7:\n",
        "  print(\"{0}+{1}-{2}-{3}=7\".format(A,B,C,D))\n",
        "elif A - B - C -D ==7:\n",
        "  print(\"{0}-{1}-{2}-{3}=7\".format(A,B,C,D))\n",
        "elif A + B - C +D ==7:\n",
        "  print(\"{0}+{1}-{2}+{3}=7\".format(A,B,C,D))\n",
        "elif A - B -C + D ==7:\n",
        "  print(\"{0}-{1}-{2}+{3}=7\".format(A,B,C,D))\n",
        "elif A - B + C -D ==7:\n",
        "  print(\"{0}-{1}+{2}-{3}=7\".format(A,B,C,D))\n",
        "elif A - B + C +D ==7:\n",
        "  print(\"{0}-{1}+{2}+{3}=7\".format(A,B,C,D))\n"
      ],
      "execution_count": null,
      "outputs": [
        {
          "output_type": "stream",
          "text": [
            "3 2 4 2\n",
            "3+2+4-2=7\n"
          ],
          "name": "stdout"
        }
      ]
    },
    {
      "cell_type": "code",
      "metadata": {
        "id": "7AVkA4V4wdxr"
      },
      "source": [
        "n = input()\n",
        "op_cnt = len(n) - 1  # すき間の個数\n",
        "for i in range(2 ** op_cnt):\n",
        "    op = [\"-\"] * op_cnt  # あらかじめ [\"-\", \"-\", \"-\"] というリストを作っておく\n",
        "    for j in range(op_cnt):\n",
        "        if ((i >> j) & 1):\n",
        "            op[op_cnt - 1 - j] = \"+\"  # フラグが立っていた箇所を \"+\" で上書き\n",
        "\n",
        "    formula = \"\"\n",
        "    for p_n, p_o in zip(n, op + [\"\"]):  # 少々モヤッとする\n",
        "        formula += (p_n + p_o)#文字列を並べてる\n",
        "    if eval(formula) == 7:\n",
        "        print(formula + \"=7\")\n",
        "        break"
      ],
      "execution_count": null,
      "outputs": []
    },
    {
      "cell_type": "code",
      "metadata": {
        "id": "d9k4c0Wyipmx",
        "colab": {
          "base_uri": "https://localhost:8080/"
        },
        "outputId": "91aa4244-642b-41ae-f9d4-7feb02e27d09"
      },
      "source": [
        "#ARC061\n",
        "s = input()\n",
        "n = len(s) - 1\n",
        "answers = []\n",
        "sl = [s[i] for i in range(len(s))]\n",
        "for i in range(2 ** n):\n",
        "    tmp = []\n",
        "    for j in range(n):\n",
        "        if ((i >> j) & 1):\n",
        "            tmp.append(j)\n",
        "    ll = ['*']*len(s)\n",
        "    for k in tmp:\n",
        "        ll[k] = '+'\n",
        "    ans = []\n",
        "    for k, _ in zip(sl, ll):\n",
        "        ans.append(k)\n",
        "        ans.append(_)\n",
        "    ans = [_ for _ in ans if _ != '*']\n",
        "    ans = ''.join(ans)\n",
        "    ans = ans.split('+')\n",
        "    ans = [int(_) for _ in ans if _ != '+']\n",
        "    ans = sum(ans)\n",
        "    answers.append(ans)\n",
        "print(sum(answers))"
      ],
      "execution_count": null,
      "outputs": [
        {
          "output_type": "stream",
          "text": [
            "125\n",
            "176\n"
          ],
          "name": "stdout"
        }
      ]
    },
    {
      "cell_type": "code",
      "metadata": {
        "id": "7kBCmLOILaLF"
      },
      "source": [
        "s=input()\n",
        "n=len(s)-1\n",
        "answers=[]#ここに格式を各志納\n",
        "Sl={S[i]for i in range(len(S))}\n",
        "for i in range(2**n):\n",
        "  #bit全探索\n",
        "  tmp=[]\n",
        "  for j in range(n):\n",
        "    if ((i>>j)&1):#ここでは2進数として考えられているたとえば１１１を２まわして００１にするそれができるなら２を追加するみたいな感じ１１１の場合０，１，２を追加して[0,1,2]結果的には１，２，５になる\n",
        "      tmp.append(j)\n",
        "  ll ={'*'}*len(S)#[*,*,*]\n",
        "  for k in tmp:#[0,1,2]\n",
        "    ll[k]='+'\n",
        "  ans=[]\n",
        "  for k,_ in zip(sl,ll):\n",
        "    ans.append(k)\n",
        "    ans.append(_)#この時点で１＊２＋５みたいな感じ\n",
        "  ans=[_ for _ in ans if _!='*']\n",
        "  ans=''.join(ans)#ここで治す\n",
        "  ans=ans.split('+')#12+5という文字列になる\n",
        "  ans=[int(_) for _ in ans if _ !='+']#+を外す\n",
        "  ans=sum(ans)#[12,5]になる\n",
        "  answers.append(ans)\n",
        "print(sum(answers))"
      ],
      "execution_count": null,
      "outputs": []
    },
    {
      "cell_type": "code",
      "metadata": {
        "colab": {
          "base_uri": "https://localhost:8080/"
        },
        "id": "RiwRjNtIr3tC",
        "outputId": "29cbe9eb-1dff-4dd1-895a-5238e1dfa693"
      },
      "source": [
        "n = int(input())\n",
        "t = [int(input()) for _ in range(n)]\n",
        "ans = 10**9\n",
        "for i in range(2 ** n):\n",
        "    niku = ['Left'] * n\n",
        "    for j in range(n):\n",
        "        if ((i >> j) & 1):\n",
        "            niku[n - j - 1] = 'Right'\n",
        "    wait_time_left = 0\n",
        "    wait_time_rignt = 0\n",
        "    for k in range(n):\n",
        "        if niku[k] == 'Left':\n",
        "            wait_time_left += t[k]\n",
        "        if niku[k] == 'Right':\n",
        "            wait_time_rignt += t[k]\n",
        "    wait_time = max(wait_time_left,wait_time_rignt)\n",
        "    ans = min(ans,wait_time)\n",
        "print(ans)"
      ],
      "execution_count": null,
      "outputs": [
        {
          "output_type": "stream",
          "text": [
            "1\n",
            "29\n",
            "29\n"
          ],
          "name": "stdout"
        }
      ]
    },
    {
      "cell_type": "code",
      "metadata": {
        "colab": {
          "base_uri": "https://localhost:8080/"
        },
        "id": "xVVj2eI6BMdG",
        "outputId": "4e4f452d-b354-4ee8-f2ae-7e3c75ebeddf"
      },
      "source": [
        "from itertools import product\n",
        "\n",
        "\n",
        "N = list(map(int, list(input())))#こうすることで桁の数とってくれる\n",
        "k = len(N)\n",
        "\n",
        "ans = k\n",
        "for bit in product(range(2), repeat=k):  # 2^k を全探索　組み合わせをつkってる\n",
        "    cnt = sum(i * n for i, n in zip(bit, N))  # i: ビット(0 or 1), n: Nの桁の数字　0*桁の数全部やる\n",
        "    if cnt % 3 == 0:\n",
        "        ans = min(ans, bit.count(0))#0の数をカウンとすることで消す桁数をだす\n",
        "\n",
        "if ans == k:\n",
        "    print(-1)\n",
        "else:\n",
        "    print(ans)\n",
        "\n",
        "#from itertools import product覚えたいこれ使うbitもありだな\n",
        "#ABC182"
      ],
      "execution_count": null,
      "outputs": [
        {
          "output_type": "stream",
          "text": [
            "6227384\n",
            "1\n"
          ],
          "name": "stdout"
        }
      ]
    },
    {
      "cell_type": "markdown",
      "metadata": {
        "id": "wEinEG4R1v0G"
      },
      "source": [
        "# 座標の距離"
      ]
    },
    {
      "cell_type": "code",
      "metadata": {
        "id": "jKXukZ-yeetS"
      },
      "source": [
        "def dist(a, b):\n",
        "\tres = 0\n",
        "\tfor i in range(D):\n",
        "\t\tres += (a[i] - b[i]) ** 2\n",
        "\tres = res ** 0.5\n",
        "\treturn res\n",
        "\n",
        "\n",
        "N, D = map(int, input().split())\n",
        "X = [list(map(int, input().split())) for _ in range(N)]\n",
        "ans = 0\n",
        "for i in range(N - 1):\n",
        "\tfor j in range(i + 1, N):\n",
        "\t\tif dist(X[i], X[j]).is_integer():\n",
        "\t\t\tans += 1\n",
        "print(ans)"
      ],
      "execution_count": null,
      "outputs": []
    },
    {
      "cell_type": "code",
      "metadata": {
        "colab": {
          "base_uri": "https://localhost:8080/"
        },
        "id": "6Bc-p0lNej9d",
        "outputId": "fb045021-852c-4e53-f180-8e683acb3746"
      },
      "source": [
        "N=int(input())\n",
        "a = [list(map(int, input().split())) for _ in range(N)]\n",
        "ans=0\n",
        "for i in range(N-1):\n",
        "  for j in range(i+1,N):\n",
        "    ans=max(ans,(a[i][0]-a[j][0])**2+(a[i][1]-a[j][1])**2)\n",
        "import math\n",
        "print(math.sqrt(ans))"
      ],
      "execution_count": null,
      "outputs": [
        {
          "output_type": "stream",
          "text": [
            "3\n",
            "1 1\n",
            "2 4\n",
            "4 3\n",
            "3.605551275463989\n"
          ],
          "name": "stdout"
        }
      ]
    },
    {
      "cell_type": "code",
      "metadata": {
        "colab": {
          "base_uri": "https://localhost:8080/"
        },
        "id": "Ifty9gdGgQab",
        "outputId": "13540354-3076-4a4b-e979-f5c0213dfe8f"
      },
      "source": [
        "K,S=map(int,input().split())\n",
        "ans=0\n",
        "for X in range(K+1):\n",
        "  for Y in range(K+1):\n",
        "    Z=S-X-Y\n",
        "    if Z>K:\n",
        "      pass\n",
        "    elif 0<=Z<=K:\n",
        "      ans+=1\n",
        "print(ans)"
      ],
      "execution_count": null,
      "outputs": [
        {
          "output_type": "stream",
          "text": [
            "2 2\n",
            "6\n"
          ],
          "name": "stdout"
        }
      ]
    },
    {
      "cell_type": "code",
      "metadata": {
        "colab": {
          "base_uri": "https://localhost:8080/"
        },
        "id": "UTsb7oZNoNig",
        "outputId": "6992d1eb-bf08-466a-d5fd-58646f7c193f"
      },
      "source": [
        "D,G=map(int,input().split())\n",
        "X = [list(map(int, input().split())) for _ in range(D)]"
      ],
      "execution_count": null,
      "outputs": [
        {
          "output_type": "stream",
          "text": [
            "2 700\n",
            "3 500\n",
            "5 800\n"
          ],
          "name": "stdout"
        }
      ]
    },
    {
      "cell_type": "code",
      "metadata": {
        "id": "YOfXMnyAdrKl"
      },
      "source": [
        ""
      ],
      "execution_count": null,
      "outputs": []
    },
    {
      "cell_type": "markdown",
      "metadata": {
        "id": "ayi3FptigwsB"
      },
      "source": [
        "# abc AB\n"
      ]
    },
    {
      "cell_type": "code",
      "metadata": {
        "colab": {
          "base_uri": "https://localhost:8080/"
        },
        "id": "ZK9lG50Siyw9",
        "outputId": "c4840209-6eff-465d-ca67-04d540f76093"
      },
      "source": [
        "A,B=map(int,input().split())\n",
        "ans=0\n",
        "if A>=B:\n",
        "  ans+=A\n",
        "  if A-1>=B:\n",
        "    ans+=A-1\n",
        "  elif A-1<B:\n",
        "    ans+=B\n",
        "elif A<B:\n",
        "  ans+=B\n",
        "  if A>=B-1:\n",
        "    ans+=A\n",
        "  elif B-1>A:\n",
        "    ans+=B-1\n",
        "print(ans)\n"
      ],
      "execution_count": null,
      "outputs": [
        {
          "output_type": "stream",
          "text": [
            "3 4\n",
            "7\n"
          ],
          "name": "stdout"
        }
      ]
    },
    {
      "cell_type": "code",
      "metadata": {
        "colab": {
          "base_uri": "https://localhost:8080/"
        },
        "id": "dana5nbMlzWh",
        "outputId": "af258cab-950b-400d-a822-c022b36a4344"
      },
      "source": [
        "N=int(input())\n",
        "a=list(map(int,input().split()))\n",
        "ans=1\n",
        "for i in range(N-1):\n",
        "  if all([z<=a[i+1] for z in a[:i+1]])==True :\n",
        "    ans+=1\n",
        "print(ans)"
      ],
      "execution_count": null,
      "outputs": [
        {
          "output_type": "stream",
          "text": [
            "5\n",
            "4 5 3 5 4\n",
            "3\n"
          ],
          "name": "stdout"
        }
      ]
    },
    {
      "cell_type": "code",
      "metadata": {
        "colab": {
          "base_uri": "https://localhost:8080/"
        },
        "id": "P90Qq5xDmgvB",
        "outputId": "d358ba99-53d4-4c3e-d50b-28b874142d4b"
      },
      "source": [
        "s=input()\n",
        "l=len(s)\n",
        "sa=\"\"\n",
        "sb=\"\"\n",
        "for i in range(l):\n",
        "    if i%2==0:\n",
        "        sa+=\"0\"\n",
        "        sb+=\"1\"\n",
        "    else:\n",
        "        sa+=\"1\"\n",
        "        sb+=\"0\"\n",
        "ca=0\n",
        "cb=0\n",
        "for i in range(l):\n",
        "    if sa[i]!=s[i]:\n",
        "        ca+=1\n",
        "    if sb[i]!=s[i]:\n",
        "        cb+=1\n",
        "#print(ca)\n",
        "#print(cb)それぞれの状態を比べて最小変更にする\n",
        "print(min(ca,cb))\n",
        "#ABC124 oｘ問題 タイル塗り替え"
      ],
      "execution_count": null,
      "outputs": [
        {
          "output_type": "stream",
          "text": [
            "000\n",
            "1\n"
          ],
          "name": "stdout"
        }
      ]
    },
    {
      "cell_type": "code",
      "metadata": {
        "colab": {
          "base_uri": "https://localhost:8080/"
        },
        "id": "M65AEkUjsb4U",
        "outputId": "a1bd0d1c-4d7d-40a4-a6d1-45e136c5435d"
      },
      "source": [
        "N, K = list(map(int, input().split()))\n",
        "S = input()\n",
        "\n",
        "S = S + 'E'   # 終端処理\n",
        "ans = -1    # 答えの初期値（十分に小さい値）\n",
        "\n",
        "# 立った人の連続の数\n",
        "if (S[0] == '0'):\n",
        "    stand = 1\n",
        "else:\n",
        "    stand = 0\n",
        "\n",
        "L = 0\n",
        "R = 0\n",
        "\n",
        "# 尺取り法\n",
        "while (R < N):\n",
        "    # 右端を進めることが可能（立った人の連続の数がK以下）なら、右端を進める\n",
        "    if (stand <= K):\n",
        "        # 立った人の連続の数が増えるなら1足す\n",
        "        if (S[R] == '1' and S[R + 1] == '0'):\n",
        "            stand += 1\n",
        "        # 答えの更新\n",
        "        ans = max(ans, R - L + 1)\n",
        "        R += 1\n",
        "    # 進められない場合、左端と右端が同じなら両者を進める\n",
        "    # 左端が右端を追い越さないための処理\n",
        "    elif (L == R):\n",
        "        L += 1\n",
        "        R += 1\n",
        "    # それ以外は左端のみを進める\n",
        "    else:\n",
        "        # 立った人の連続の数が減るなら1減らす\n",
        "        if (S[L] == '0' and S[L + 1] == '1'):\n",
        "            stand -= 1\n",
        "        L += 1\n",
        "        # 左端のみを進めた場合は答えを更新し得ない\n",
        "\n",
        "print(ans)\n",
        "#Dできなかった尺どり"
      ],
      "execution_count": null,
      "outputs": [
        {
          "output_type": "stream",
          "text": [
            "5 1\n",
            "00010\n"
          ],
          "name": "stdout"
        }
      ]
    },
    {
      "cell_type": "code",
      "metadata": {
        "colab": {
          "base_uri": "https://localhost:8080/"
        },
        "id": "tPcAVFuwv1_o",
        "outputId": "c0c374dd-e573-42d1-9e7a-3f24d94b31e6"
      },
      "source": [
        "gyou=[list(map(int,input().split()))for i in range(2)]\n",
        "print(gyou[0][0]*gyou[1][1]-gyou[0][1]*gyou[1][0])"
      ],
      "execution_count": null,
      "outputs": [
        {
          "output_type": "stream",
          "text": [
            "1 2\n",
            "3 4\n"
          ],
          "name": "stdout"
        }
      ]
    },
    {
      "cell_type": "code",
      "metadata": {
        "colab": {
          "base_uri": "https://localhost:8080/"
        },
        "id": "oDurl5l1wfXH",
        "outputId": "c41bfaa3-e066-4b12-d5d6-2c8a15a6269a"
      },
      "source": [
        "N,X=map(int,input().split())\n",
        "S=input()\n",
        "ans=0\n",
        "for x in S:\n",
        "  if x=='o':\n",
        "    ans+=1\n",
        "  else:\n",
        "    ans-=1\n",
        "print(min(0,ans))"
      ],
      "execution_count": null,
      "outputs": [
        {
          "output_type": "stream",
          "text": [
            "3 0\n",
            "oxo\n",
            "0\n"
          ],
          "name": "stdout"
        }
      ]
    },
    {
      "cell_type": "code",
      "metadata": {
        "colab": {
          "base_uri": "https://localhost:8080/"
        },
        "id": "KOMZjiFnxMv4",
        "outputId": "98e9dc19-0445-4be7-e67f-cc3d1fbe616e"
      },
      "source": [
        "rc=[list(map(int,input().split())) for x in range(2)]"
      ],
      "execution_count": null,
      "outputs": [
        {
          "output_type": "stream",
          "text": [
            "1 1\n",
            "1 200001\n"
          ],
          "name": "stdout"
        }
      ]
    },
    {
      "cell_type": "code",
      "metadata": {
        "colab": {
          "base_uri": "https://localhost:8080/"
        },
        "id": "a9-_sXztyLRU",
        "outputId": "d0a36678-d166-4e16-aad0-1d24fe670452"
      },
      "source": [
        "#手の数を考えるマンハッタン距離とか\n",
        "#変化量の和が必ず偶数になっていることに注目してください。ということは、何回斜め移動をしても、変化量の和が奇数のマスには絶対止まれません\n",
        "def solve():\n",
        "    # 0手です。サンプルをちゃんと見ていないと、このパターンを忘れると思います。\n",
        "    if a == c and b == d:\n",
        "        return 0\n",
        "\n",
        "    # 1手です。問題文通りに書きましょう。\n",
        "    if a + b == c + d:\n",
        "        return 1\n",
        "    if a - b == c - d:\n",
        "        return 1\n",
        "    if abs(a - c) + abs(b - d) <= 3:\n",
        "        return 1\n",
        "\n",
        "    # 2手です。考察したとおりに書きます。\n",
        "    if abs(a - c) + abs(b - d) <= 6:\n",
        "        return 2\n",
        "    if (abs(a - c) + abs(b - d)) % 2 == 0:\n",
        "    # %の優先順位は高いので、左辺の足し算を()で囲まないとWAになります（1敗）\n",
        "        return 2\n",
        "    if abs((a + b) - (c + d)) <= 3:\n",
        "        return 2\n",
        "    if abs((a - b) - (c - d)) <= 3:\n",
        "        return 2\n",
        "\n",
        "    # 2手でダメなら、必ず3手です。\n",
        "    return 3\n",
        "\n",
        "\n",
        "a, b = map(int, input().split())\n",
        "c, d = map(int, input().split())\n",
        "\n",
        "print(solve())\n",
        "#できなかった"
      ],
      "execution_count": null,
      "outputs": [
        {
          "output_type": "stream",
          "text": [
            "4 4\n",
            "4 6\n",
            "1\n"
          ],
          "name": "stdout"
        }
      ]
    },
    {
      "cell_type": "code",
      "metadata": {
        "colab": {
          "base_uri": "https://localhost:8080/"
        },
        "id": "WrRk6yPZ1UDv",
        "outputId": "3c0cb816-a749-4c4d-fce7-6dc957758570"
      },
      "source": [
        "x=int(input())\n",
        "if x<0:\n",
        "  x=0\n",
        "print(x)"
      ],
      "execution_count": null,
      "outputs": [
        {
          "output_type": "stream",
          "text": [
            "2\n",
            "2\n"
          ],
          "name": "stdout"
        }
      ]
    },
    {
      "cell_type": "code",
      "metadata": {
        "colab": {
          "base_uri": "https://localhost:8080/"
        },
        "id": "qbQP235d1lY0",
        "outputId": "4d5ea7b7-b7fb-4020-8431-fd9177a602d4"
      },
      "source": [
        "sx,sy,gx,gy=map(int,input().split())\n",
        "tx = gx - sx\n",
        "ty = sy + gy\n",
        "dx = tx * sy / ty\n",
        "print(sx + dx)\n",
        "#三角の比率で考える"
      ],
      "execution_count": null,
      "outputs": [
        {
          "output_type": "stream",
          "text": [
            "1 1 3 2\n",
            "1.6666666666666665\n"
          ],
          "name": "stdout"
        }
      ]
    },
    {
      "cell_type": "code",
      "metadata": {
        "colab": {
          "base_uri": "https://localhost:8080/"
        },
        "id": "FUjIrXOC4CpV",
        "outputId": "a3b307f4-c200-48aa-eb2d-afec99545c56"
      },
      "source": [
        "N,K=map(int,input().split())\n",
        "t=[list(map(int,input().split())) for i in range(N)]"
      ],
      "execution_count": null,
      "outputs": [
        {
          "output_type": "stream",
          "text": [
            "4 330\n",
            "0 1 10 100\n",
            "1 0 20 200\n",
            "10 20 0 300\n",
            "100 200 300 0\n"
          ],
          "name": "stdout"
        }
      ]
    },
    {
      "cell_type": "code",
      "metadata": {
        "colab": {
          "base_uri": "https://localhost:8080/"
        },
        "id": "P-oYF5pE8_4K",
        "outputId": "cc020059-d40e-4d20-b761-d2c43583ecb2"
      },
      "source": [
        "N,W=map(int,input().split())\n",
        "S=[list(map(int,input().split())) for i in  range(N)]\n",
        "ans=[0]*(2*10**5)\n",
        "for i in range(N):\n",
        "  for j in range(S[i][0],S[i][1]):\n",
        "    ans[j]+=S[i][2]\n",
        "if all(i<=W for i in ans):\n",
        "  print('Yes')\n",
        "elif any(i>W for i in ans):\n",
        "  print('No')"
      ],
      "execution_count": null,
      "outputs": [
        {
          "output_type": "stream",
          "text": [
            "4 10\n",
            "1 3 5\n",
            "2 4 4\n",
            "3 10 6\n",
            "2 3 1\n",
            "Yes\n"
          ],
          "name": "stdout"
        }
      ]
    },
    {
      "cell_type": "code",
      "metadata": {
        "colab": {
          "base_uri": "https://localhost:8080/"
        },
        "id": "bbS2X-XR_uXs",
        "outputId": "317500b5-726a-47d4-a9aa-c74435971947"
      },
      "source": [
        "A,B=map(int,input().split())\n",
        "print((2*(A)+100)-B)"
      ],
      "execution_count": null,
      "outputs": [
        {
          "output_type": "stream",
          "text": [
            "200 300\n",
            "200\n"
          ],
          "name": "stdout"
        }
      ]
    },
    {
      "cell_type": "code",
      "metadata": {
        "colab": {
          "base_uri": "https://localhost:8080/"
        },
        "id": "whL5oEk0AKnF",
        "outputId": "0e5e1edd-774c-44e3-8e33-b15f6a111276"
      },
      "source": [
        "N=int(input())\n",
        "A=list(map(int,input().split()))\n",
        "max_num=[0]*1000\n",
        "A.sort()\n",
        "for i in range(2,A[-1]+1):\n",
        "  for j in A:\n",
        "    if j%i==0:\n",
        "      max_num[i]+=1\n",
        "print(max_num.index(max(max_num)))\n"
      ],
      "execution_count": null,
      "outputs": [
        {
          "output_type": "stream",
          "text": [
            "5\n",
            "8 9 18 90 72\n"
          ],
          "name": "stdout"
        }
      ]
    },
    {
      "cell_type": "code",
      "metadata": {
        "colab": {
          "base_uri": "https://localhost:8080/"
        },
        "id": "go2EmYo9MPUE",
        "outputId": "54006145-a8b7-4552-abc0-51bbaef218fa"
      },
      "source": [
        "N=int(input())\n",
        "if N%2==0:\n",
        "  print(\"White\")\n",
        "else:\n",
        "  print('Black')"
      ],
      "execution_count": null,
      "outputs": [
        {
          "output_type": "stream",
          "text": [
            "4\n",
            "White\n"
          ],
          "name": "stdout"
        }
      ]
    },
    {
      "cell_type": "code",
      "metadata": {
        "colab": {
          "base_uri": "https://localhost:8080/"
        },
        "id": "m0yYQNebM0dj",
        "outputId": "12ec9285-bab4-4c8e-d973-a048c2d44f63"
      },
      "source": [
        "N=int(input())\n",
        "A=[list(map(int,input().split()))for i in range(N)]\n",
        "ans=0\n",
        "for i in A:\n",
        "  for j in range(i[0],i[1]+1):\n",
        "    ans+=j\n",
        "print(ans)"
      ],
      "execution_count": null,
      "outputs": [
        {
          "output_type": "stream",
          "text": [
            "3\n",
            "11 13\n",
            "17 47\n",
            "359 44683\n",
            "998244353\n"
          ],
          "name": "stdout"
        }
      ]
    },
    {
      "cell_type": "code",
      "metadata": {
        "colab": {
          "base_uri": "https://localhost:8080/"
        },
        "id": "-TlDtsD9NI8t",
        "outputId": "0a752f8e-8092-413a-8983-21f1f3e323a9"
      },
      "source": [
        "def judge():\n",
        "    for i in range(N):\n",
        "        for j in range(i + 1, N):\n",
        "            for k in range(j + 1, N):\n",
        "                x1, y1 = P[i]\n",
        "                x2, y2 = P[j]\n",
        "                x3, y3 = P[k]\n",
        "                fx, fy = x2 - x1, y2 - y1\n",
        "                sx, sy = x3 - x1, y3 - y1\n",
        "                if fx * sy == sx * fy:\n",
        "                    return True\n",
        "    return False\n",
        "#こんなのシラン\n",
        "\n",
        "N = int(input())\n",
        "P = []\n",
        "\n",
        "for _ in range(N):\n",
        "    x, y = map(int, input().split())\n",
        "    P.append((x, y))\n",
        "\n",
        "if judge():\n",
        "    print(\"Yes\")\n",
        "else:\n",
        "    print(\"No\")\n",
        "#グロ関数使ってる\n",
        "#ABC181C"
      ],
      "execution_count": null,
      "outputs": [
        {
          "output_type": "stream",
          "text": [
            "4\n",
            "0 1\n",
            "0 2\n",
            "0 3\n",
            "1 1\n",
            "Yes\n"
          ],
          "name": "stdout"
        }
      ]
    },
    {
      "cell_type": "code",
      "metadata": {
        "colab": {
          "base_uri": "https://localhost:8080/"
        },
        "id": "FNJ_C0CKRuHu",
        "outputId": "000b2fec-f28b-4a99-fc82-cb26fd02b015"
      },
      "source": [
        "S=input()\n",
        "from itertools import permutations\n",
        "for i in permutations(S):\n",
        "  s3=i[-3:]\n",
        "  s3=int(\"\".join(s3))\n",
        "  s2=round(int(\"\".join(i))/2)\n",
        "  s4=str(s2)[-2:]\n",
        "  s4=int(\"\".join(s4))\n",
        "  if s3%2==0 and s4%4==0:\n",
        "    print('Yes')\n",
        "    break\n",
        "else:\n",
        "  print('No')"
      ],
      "execution_count": null,
      "outputs": [
        {
          "output_type": "stream",
          "text": [
            "1333\n",
            "No\n"
          ],
          "name": "stdout"
        }
      ]
    },
    {
      "cell_type": "code",
      "metadata": {
        "colab": {
          "base_uri": "https://localhost:8080/"
        },
        "id": "7u7o7FpRXbeE",
        "outputId": "3b946f14-0e98-4ef0-92c7-eb3a45855ee7"
      },
      "source": [
        "N,A,B=map(int,input().split())\n",
        "print(N-A+B)"
      ],
      "execution_count": null,
      "outputs": [
        {
          "output_type": "stream",
          "text": [
            "100 1 2\n",
            "101\n"
          ],
          "name": "stdout"
        }
      ]
    },
    {
      "cell_type": "code",
      "metadata": {
        "colab": {
          "base_uri": "https://localhost:8080/"
        },
        "id": "BgNVlwUvX0rM",
        "outputId": "0ff24822-3d2a-4e5e-e916-f74796b58ea7"
      },
      "source": [
        "N=int(input())\n",
        "x=list(map(int,input().split()))\n",
        "import math\n",
        "def man(x):\n",
        "  ans=0\n",
        "  for i in x:\n",
        "    ans+=abs(i)\n",
        "  print(ans)\n",
        "def yuuk(x):\n",
        "  ans=0\n",
        "  for i in x:\n",
        "    ans+=abs(i)**2\n",
        "  ans=math.sqrt(ans)\n",
        "  print(ans)\n",
        "def che(x):\n",
        "  ans=0\n",
        "  for i in x:\n",
        "    if abs(i)>ans:\n",
        "      ans=abs(i)\n",
        "  print(ans)\n",
        "a=man(x)\n",
        "b=yuuk(x)\n",
        "c=che(x)"
      ],
      "execution_count": null,
      "outputs": [
        {
          "output_type": "stream",
          "text": [
            "10\n",
            "3 -1 -4 1 -5 9 2 -6 5 -3\n"
          ],
          "name": "stdout"
        }
      ]
    },
    {
      "cell_type": "code",
      "metadata": {
        "colab": {
          "base_uri": "https://localhost:8080/"
        },
        "id": "mhWwuW-NX-lk",
        "outputId": "e90999c8-2646-41eb-e493-ecc1ab243fc6"
      },
      "source": [
        "N=int(input())\n",
        "def divisor(n): \n",
        "    i = 1\n",
        "    table = []\n",
        "    while i * i <= n:\n",
        "        if n%i == 0:\n",
        "            table.append(i)\n",
        "            table.append(n//i)\n",
        "        i += 1\n",
        "    table = list(set(table))\n",
        "    return table\n",
        "#約数\n",
        "a=divisor(N)\n",
        "a.sort()\n",
        "for i in a:\n",
        "  print(i)"
      ],
      "execution_count": null,
      "outputs": [
        {
          "output_type": "stream",
          "text": [
            "720\n",
            "1\n",
            "2\n",
            "3\n",
            "4\n",
            "5\n",
            "6\n",
            "8\n",
            "9\n",
            "10\n",
            "12\n",
            "15\n",
            "16\n",
            "18\n",
            "20\n",
            "24\n",
            "30\n",
            "36\n",
            "40\n",
            "45\n",
            "48\n",
            "60\n",
            "72\n",
            "80\n",
            "90\n",
            "120\n",
            "144\n",
            "180\n",
            "240\n",
            "360\n",
            "720\n"
          ],
          "name": "stdout"
        }
      ]
    },
    {
      "cell_type": "code",
      "metadata": {
        "colab": {
          "base_uri": "https://localhost:8080/"
        },
        "id": "bN00ftrub87A",
        "outputId": "992cdb8f-e27d-4e33-df69-7b27402a724d"
      },
      "source": [
        "X, Y, A, B = map(int, input().split())\n",
        "\n",
        "ans = 0\n",
        "\n",
        "# A * X が X + B よりも小さい間はA倍を選ぶ\n",
        "# A * X がY以上になってもいけない点に注意\n",
        "while A * X <= X + B and A * X < Y:\n",
        "    X *= A\n",
        "    ans += 1\n",
        "\n",
        "ans += (Y - 1 - X) // B\n",
        "print(ans)\n",
        "#ABC180d"
      ],
      "execution_count": null,
      "outputs": [
        {
          "output_type": "stream",
          "text": [
            "1 1000000000000000000 10 1000000000\n",
            "1000000007\n"
          ],
          "name": "stdout"
        }
      ]
    },
    {
      "cell_type": "code",
      "metadata": {
        "colab": {
          "base_uri": "https://localhost:8080/"
        },
        "id": "1xyuIgEweO1Q",
        "outputId": "fd85c4cb-5ba9-4175-b99b-fe86f6e468a1"
      },
      "source": [
        "S=input()\n",
        "if S[-1]=='s':\n",
        "  S+=\"es\"\n",
        "else:\n",
        "  S+=\"s\"\n",
        "print(S)"
      ],
      "execution_count": null,
      "outputs": [
        {
          "output_type": "stream",
          "text": [
            "apple\n",
            "apples\n"
          ],
          "name": "stdout"
        }
      ]
    },
    {
      "cell_type": "code",
      "metadata": {
        "colab": {
          "base_uri": "https://localhost:8080/"
        },
        "id": "E2c-zx2le-vB",
        "outputId": "8e5f8970-2934-4e73-a225-28e0cb593097"
      },
      "source": [
        "N=int(input())\n",
        "D=[list(map(int,input().split()))for _ in range(N)]\n",
        "for i in range(len(D)-1):\n",
        "  if D[i][0]==D[i][1]==D[i+1][0]:\n",
        "    print('Yes')\n",
        "    break\n",
        "  elif D[i][1]==D[i+1][0]==D[i+1][1]:\n",
        "    print('Yes')\n",
        "    break\n",
        "else:\n",
        "  print('No')  "
      ],
      "execution_count": null,
      "outputs": [
        {
          "output_type": "stream",
          "text": [
            "5\n",
            "1 1\n",
            "2 2\n",
            "3 3\n",
            "4 4\n",
            "5 5\n"
          ],
          "name": "stdout"
        }
      ]
    },
    {
      "cell_type": "code",
      "metadata": {
        "colab": {
          "base_uri": "https://localhost:8080/"
        },
        "id": "9id8ifYHfOI1",
        "outputId": "439bcd06-dbbd-4ede-be69-922340b42f84"
      },
      "source": [
        "N=int(input())\n",
        "ans=0\n",
        "for i in range(1,N+1):\n",
        "  K=N-i\n",
        "  for j in range(1,K+1):\n",
        "    for k in range(1,K+1):\n",
        "      if j*k==K:\n",
        "        ans+=1\n",
        "print(ans)\n"
      ],
      "execution_count": null,
      "outputs": [
        {
          "output_type": "stream",
          "text": [
            "100\n"
          ],
          "name": "stdout"
        }
      ]
    },
    {
      "cell_type": "code",
      "metadata": {
        "colab": {
          "base_uri": "https://localhost:8080/",
          "height": 223
        },
        "id": "zlznuiI6hEfK",
        "outputId": "3edab7c6-a5c9-4960-9af4-ca7a647cc2b7"
      },
      "source": [
        "a,b,c,d=map(int,input().split())\n",
        "ans=[]\n",
        "for x in range(a,b+1):\n",
        "  for y in range(c,d+1):\n",
        "    ans.append(x*y)\n",
        "ans.sort()\n",
        "print(ans[-1])"
      ],
      "execution_count": null,
      "outputs": [
        {
          "output_type": "stream",
          "text": [
            "3 5 -4 -2\n"
          ],
          "name": "stdout"
        },
        {
          "output_type": "error",
          "ename": "TypeError",
          "evalue": "ignored",
          "traceback": [
            "\u001b[0;31m---------------------------------------------------------------------------\u001b[0m",
            "\u001b[0;31mTypeError\u001b[0m                                 Traceback (most recent call last)",
            "\u001b[0;32m<ipython-input-35-2d47f78e5225>\u001b[0m in \u001b[0;36m<module>\u001b[0;34m()\u001b[0m\n\u001b[1;32m      4\u001b[0m   \u001b[0;32mfor\u001b[0m \u001b[0my\u001b[0m \u001b[0;32min\u001b[0m \u001b[0mrange\u001b[0m\u001b[0;34m(\u001b[0m\u001b[0mc\u001b[0m\u001b[0;34m,\u001b[0m\u001b[0md\u001b[0m\u001b[0;34m+\u001b[0m\u001b[0;36m1\u001b[0m\u001b[0;34m)\u001b[0m\u001b[0;34m:\u001b[0m\u001b[0;34m\u001b[0m\u001b[0;34m\u001b[0m\u001b[0m\n\u001b[1;32m      5\u001b[0m     \u001b[0mans\u001b[0m\u001b[0;34m.\u001b[0m\u001b[0mappend\u001b[0m\u001b[0;34m(\u001b[0m\u001b[0mx\u001b[0m\u001b[0;34m*\u001b[0m\u001b[0my\u001b[0m\u001b[0;34m)\u001b[0m\u001b[0;34m\u001b[0m\u001b[0;34m\u001b[0m\u001b[0m\n\u001b[0;32m----> 6\u001b[0;31m \u001b[0mprint\u001b[0m\u001b[0;34m(\u001b[0m\u001b[0mans\u001b[0m\u001b[0;34m.\u001b[0m\u001b[0msort\u001b[0m\u001b[0;34m[\u001b[0m\u001b[0;34m-\u001b[0m\u001b[0;36m1\u001b[0m\u001b[0;34m]\u001b[0m\u001b[0;34m)\u001b[0m\u001b[0;34m\u001b[0m\u001b[0;34m\u001b[0m\u001b[0m\n\u001b[0m",
            "\u001b[0;31mTypeError\u001b[0m: 'builtin_function_or_method' object is not subscriptable"
          ]
        }
      ]
    },
    {
      "cell_type": "code",
      "metadata": {
        "colab": {
          "base_uri": "https://localhost:8080/"
        },
        "id": "cDH9l53WEUYj",
        "outputId": "da517a3e-9858-4e36-998a-67f947b48f88"
      },
      "source": [
        "A,B,C,D=map(int,input().split())\n",
        "while A>0 or C>0:\n",
        "  C-=B\n",
        "  if C<=0:\n",
        "    print('Yes')\n",
        "    break\n",
        "  A-=D\n",
        "  if A<=0:\n",
        "    print('No')\n",
        "    break\n"
      ],
      "execution_count": null,
      "outputs": [
        {
          "output_type": "stream",
          "text": [
            "46 4 40 5\n",
            "Yes\n"
          ],
          "name": "stdout"
        }
      ]
    },
    {
      "cell_type": "code",
      "metadata": {
        "colab": {
          "base_uri": "https://localhost:8080/"
        },
        "id": "gP6SepClFYu7",
        "outputId": "4b36368e-1ddf-4ef0-acf0-9b51a2a8e29a"
      },
      "source": [
        "S=input()\n",
        "ans=[]\n",
        "si=[i for i in S]\n",
        "for i in range(len(si)-1):\n",
        "  for j in range(i,len(si)):\n",
        "    k=S[i:j+1]\n",
        "    ans.append(k)\n",
        "\n",
        "answ=0\n",
        "for i in ans:\n",
        "  i=int(i)\n",
        "  if i%2019==0:\n",
        "    answ+=1\n",
        "print(answ)"
      ],
      "execution_count": null,
      "outputs": [
        {
          "output_type": "stream",
          "text": [
            "1817181712114\n",
            "3\n"
          ],
          "name": "stdout"
        }
      ]
    },
    {
      "cell_type": "markdown",
      "metadata": {
        "id": "KMLdTYV9EVgi"
      },
      "source": [
        "# ABC"
      ]
    },
    {
      "cell_type": "code",
      "metadata": {
        "id": "rSbdR9xqO29A"
      },
      "source": [
        "#文字列の連続\n",
        "s = input()\n",
        "ans = 0\n",
        "\n",
        "for i in range(1, 4):\n",
        "    p = \"R\" * i\n",
        "    if p in s:  #pがｓに入っているならそのiをいれる\n",
        "        ans = i\n",
        "\n",
        "print(ans)\n"
      ],
      "execution_count": null,
      "outputs": []
    },
    {
      "cell_type": "code",
      "metadata": {
        "colab": {
          "base_uri": "https://localhost:8080/"
        },
        "id": "ctp83cATPuy_",
        "outputId": "2184ed1e-4f13-415b-8701-ec42cb075921"
      },
      "source": [
        "x,k,d=map(int,input().split())\n",
        "ans=x\n",
        "for i in range(k):\n",
        "  ans=min(abs(ans-d),abs(ans+d))\n",
        "print(ans)"
      ],
      "execution_count": null,
      "outputs": [
        {
          "output_type": "stream",
          "text": [
            "10 1 2\n",
            "8\n"
          ],
          "name": "stdout"
        }
      ]
    },
    {
      "cell_type": "code",
      "metadata": {
        "colab": {
          "base_uri": "https://localhost:8080/"
        },
        "id": "Lu3SZqrBRJmw",
        "outputId": "e7ba1ea1-e7ad-4ac9-b724-ffaaa6269f34"
      },
      "source": [
        "N,K=map(int,input().split())\n",
        "max_ans=[]\n",
        "p=list(map(int,input().split()))\n",
        "c=list(map(int,input().split()))\n",
        "max_ans=[]\n",
        "for i in range(N):\n",
        "  j=0\n",
        "  while j<=k:\n",
        "    tugi=p[i]-1\n",
        "    max_ans.append(c[tugi])\n",
        "    z=tugi\n",
        "    j+=1\n",
        "\n",
        "print(max_ans)\n"
      ],
      "execution_count": null,
      "outputs": [
        {
          "output_type": "stream",
          "text": [
            "5 2\n",
            "2 4 5 1 3\n",
            "3 4 -10 -8 8\n"
          ],
          "name": "stdout"
        }
      ]
    },
    {
      "cell_type": "code",
      "metadata": {
        "colab": {
          "base_uri": "https://localhost:8080/"
        },
        "id": "h1LFIg2rTdPx",
        "outputId": "54bb8dae-2425-4bbb-930e-c3a1961343da"
      },
      "source": [
        "max_ans=[]\n",
        "for i in range(N):\n",
        "  j=0\n",
        "  while j<=k:\n",
        "    tugi=p[i]-1\n",
        "    max_ans.append(c[tugi])\n",
        "    z=tugi\n",
        "    j+=1\n",
        "\n",
        "print(max_ans)\n",
        "#ABC175d\n"
      ],
      "execution_count": null,
      "outputs": [
        {
          "output_type": "stream",
          "text": [
            "[4, -8, -8, 3, 8, -10, 3, 4, -10, 8]\n"
          ],
          "name": "stdout"
        }
      ]
    },
    {
      "cell_type": "code",
      "metadata": {
        "colab": {
          "base_uri": "https://localhost:8080/"
        },
        "id": "hG3yRhzMZR2q",
        "outputId": "de540d1d-b7b2-467b-b232-0b899d90fd4b"
      },
      "source": [
        "K = int(input())\n",
        "count = 1\n",
        "mod = 7\n",
        "answer = -1\n",
        "\n",
        "for _ in range(K):\n",
        "    if mod % K == 0:\n",
        "        answer = count\n",
        "        break\n",
        "    count += 1\n",
        "    mod = (mod * 10 + 7) % K\n",
        "\n",
        "print(answer)\n"
      ],
      "execution_count": null,
      "outputs": [
        {
          "output_type": "stream",
          "text": [
            "101\n",
            "4\n"
          ],
          "name": "stdout"
        }
      ]
    },
    {
      "cell_type": "code",
      "metadata": {
        "colab": {
          "base_uri": "https://localhost:8080/"
        },
        "id": "elLOhq6Edf-3",
        "outputId": "0b07cbd9-5c42-4510-f0d7-14831ae264c5"
      },
      "source": [
        "N=int(input())\n",
        "print(N%1000)"
      ],
      "execution_count": null,
      "outputs": [
        {
          "output_type": "stream",
          "text": [
            "1900\n",
            "900\n"
          ],
          "name": "stdout"
        }
      ]
    },
    {
      "cell_type": "code",
      "metadata": {
        "id": "VaYPYWRFeHlX"
      },
      "source": [
        "N=int(input())\n",
        "s=[0]*N\n",
        "from collections import defaultdict\n",
        "d = defaultdict(int)\n",
        "for i in range(N):\n",
        "  s[i]=input()\n",
        "  d[s[i]]+=1\n",
        "M=int(input())\n",
        "t=[0]*M\n",
        "for i in range(M):\n",
        "  t[i]=input()\n",
        "  d[t[i]]-=1\n",
        "max=0\n",
        "for i in d:\n",
        "  if max<d[i]:\n",
        "    max=d[i]\n",
        "print(max)"
      ],
      "execution_count": null,
      "outputs": []
    },
    {
      "cell_type": "code",
      "metadata": {
        "colab": {
          "base_uri": "https://localhost:8080/"
        },
        "id": "NumSP0Gled9d",
        "outputId": "2aeedd6c-41b6-4ec2-ba43-4f425022fff3"
      },
      "source": [
        "N=int(input())\n",
        "s=[0]*N\n",
        "from collections import defaultdict\n",
        "d=defaultdict(int)\n",
        "for i in range(N):\n",
        "  s[i]=input()\n",
        "  d[s[i]]+=1\n",
        "print(\"AC x {}\".format(d[\"AC\"]))\n",
        "print(\"WA x {}\".format(d[\"WA\"]))\n",
        "print(\"TLE x {}\".format(d[\"TLE\"]))\n",
        "print(\"RE x {}\".format(d[\"RE\"]))"
      ],
      "execution_count": null,
      "outputs": [
        {
          "output_type": "stream",
          "text": [
            "6\n",
            "AC\n",
            "AC\n",
            "AC\n",
            "TLE\n",
            "RE\n",
            "WA\n",
            "AC x 3\n",
            "WA x 1\n",
            "TLE x 1\n",
            "RE x 1\n"
          ],
          "name": "stdout"
        }
      ]
    },
    {
      "cell_type": "code",
      "metadata": {
        "colab": {
          "base_uri": "https://localhost:8080/"
        },
        "id": "PqtTqYPGhy75",
        "outputId": "e2fce4c8-1975-4f8e-89f3-8dd881fb2266"
      },
      "source": [
        "from itertools import product\n",
        "\n",
        "h, w, k = map(int, input().split())\n",
        "c = [list(input()) for _ in range(h)]\n",
        "\n",
        "ans = 0\n",
        "\n",
        "for row_bit in product(range(2), repeat=h):\n",
        "    for col_bit in product(range(2), repeat=w):\n",
        "        cnt = 0\n",
        "        for row in range(h):\n",
        "            for col in range(w):\n",
        "                if c[row][col] == \"#\" and (row_bit[row] and col_bit[col]):#bit演算で１ならばそこは塗り替えられていない）\n",
        "                    cnt += 1\n",
        "        if cnt == k:\n",
        "            ans += 1\n",
        "\n",
        "print(ans)\n",
        "#ABC173c"
      ],
      "execution_count": null,
      "outputs": [
        {
          "output_type": "stream",
          "text": [
            "3 3 2\n",
            ".##\n",
            "...\n",
            "###\n",
            "14\n"
          ],
          "name": "stdout"
        }
      ]
    },
    {
      "cell_type": "code",
      "metadata": {
        "colab": {
          "base_uri": "https://localhost:8080/"
        },
        "id": "oTBLfi9uzM7g",
        "outputId": "e5ab9cc0-3cc3-4187-fe78-29aa30b17f83"
      },
      "source": [
        "S=input()\n",
        "T=input()\n",
        "ans=0\n",
        "for i in range(len(S)):\n",
        "  if S[i]!=T[i]:\n",
        "    ans+=1\n",
        "print(ans) "
      ],
      "execution_count": null,
      "outputs": [
        {
          "output_type": "stream",
          "text": [
            "abcde\n",
            "bcdea\n",
            "5\n"
          ],
          "name": "stdout"
        }
      ]
    },
    {
      "cell_type": "code",
      "metadata": {
        "colab": {
          "base_uri": "https://localhost:8080/"
        },
        "id": "itBSq-uFz7IZ",
        "outputId": "b4b828c5-b21b-48b4-9ce8-1c0981019d95"
      },
      "source": [
        "N,M,K=map(int,input().split())\n",
        "A=[map(int,input().split())]\n",
        "B=[map(int,input().split())]"
      ],
      "execution_count": null,
      "outputs": [
        {
          "output_type": "stream",
          "text": [
            "3 4 240\n",
            "60 90 120\n",
            "80 150 80 150\n"
          ],
          "name": "stdout"
        }
      ]
    },
    {
      "cell_type": "code",
      "metadata": {
        "colab": {
          "base_uri": "https://localhost:8080/"
        },
        "id": "03XK6Gko2HuS",
        "outputId": "83b5b0ff-4910-457d-d7c2-6e2c74951193"
      },
      "source": [
        "from itertools import accumulate\n",
        "import bisect\n",
        "#A,Bのるいせきわを出して、そこからK-AしてBがどれだけよめるか\n",
        "n, m, k = map(int, input().split())\n",
        "a = list(map(int, input().split()))\n",
        "b = list(map(int, input().split()))\n",
        "\n",
        "a_acc = [0] + list(accumulate(a))  # aを0冊読む=1冊も読まない場合があるので、[0]を先頭に追加します\n",
        "b_acc = list(accumulate(b))  # bisect_rightでは、x以下の要素がいくつあるか？を求めるので、こちらに0は入れません\n",
        "\n",
        "ans = 0\n",
        "for an in range(n + 1):#an冊Aを読んだらBを何冊読めるか\n",
        "    rem = k - a_acc[an]\n",
        "    if rem < 0:\n",
        "        # aをこれ以上読めません\n",
        "        break\n",
        "\n",
        "    bn = bisect.bisect_right(b_acc, rem)\n",
        "    ans = max(ans, an + bn)\n",
        "\n",
        "print(ans)\n"
      ],
      "execution_count": null,
      "outputs": [
        {
          "output_type": "stream",
          "text": [
            "3 4 240\n",
            "60 70 120\n",
            "80 50 100 1\n",
            "4\n"
          ],
          "name": "stdout"
        }
      ]
    },
    {
      "cell_type": "code",
      "metadata": {
        "id": "8XKY7DfG83J7"
      },
      "source": [
        "from itertools import accumulate\n",
        "\n",
        "n, m, k = map(int, input().split())\n",
        "a = list(map(int, input().split()))\n",
        "b = list(map(int, input().split()))\n",
        "\n",
        "a_acc = [0] + list(accumulate(a))  # aを0冊読む=1冊も読まない場合があるので\n",
        "b_acc = [0] + list(accumulate(b))  # 今度は[0]が必要です\n",
        "\n",
        "ans = 0\n",
        "for an in range(n + 1):\n",
        "    rem = k - a_acc[an]\n",
        "    if rem < 0:\n",
        "        break\n",
        "\n",
        "    # 最初は 0 <= x < m + 1 の範囲で、この範囲を狭めていきます\n",
        "    ok = 0\n",
        "    ng = m + 1   \n",
        "    # ng = ok + 1のとき、ok <= x < ng は ok <= x < ok + 1で、x = okに確定します\n",
        "    while abs(ng - ok) > 1:\n",
        "        mid = (ok + ng) // 2\n",
        "        # bをmid冊読めるか？\n",
        "        if b_acc[mid] <= rem:\n",
        "        # 読めるならok\n",
        "            ok = mid\n",
        "        else:\n",
        "        # 読めないならng\n",
        "            ng = mid\n",
        "\n",
        "    bn = ok\n",
        "    ans = max(ans, an + bn)\n",
        "\n",
        "print(ans)\n",
        "#raightlefyわからないときのめぐる式"
      ],
      "execution_count": null,
      "outputs": []
    },
    {
      "cell_type": "markdown",
      "metadata": {
        "id": "3LPVzifPEWKt"
      },
      "source": [
        ""
      ]
    }
  ]
}