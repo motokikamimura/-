{
 "cells": [
  {
   "cell_type": "code",
   "execution_count": 1,
   "metadata": {},
   "outputs": [],
   "source": [
    "import requests\n",
    "from bs4 import BeautifulSoup\n",
    "import re\n",
    "import pandas as pd\n",
    "import joblib\n",
    "import time\n",
    "import itertools\n",
    "import requests\n",
    "from bs4 import BeautifulSoup\n",
    "import time\n",
    "import os\n",
    "import pandas as pd\n",
    "import codecs\n",
    "from urllib.parse import urljoin"
   ]
  },
  {
   "cell_type": "code",
   "execution_count": 2,
   "metadata": {},
   "outputs": [],
   "source": [
    "def joblib_url(i,z):\n",
    "    url = 0\n",
    "    new_list = list()\n",
    "    urls = 'https://townwork.net/joSrchRsltList/?jc={0:03d}&page={1}'.format(i,z)\n",
    "    res = requests.get(urls)\n",
    "    res.raise_for_status()\n",
    "    soup = BeautifulSoup(res.text, \"lxml\")\n",
    "    divs = soup.find_all('div',class_='job-lst-box-wrap')\n",
    "    for div in divs:\n",
    "        link = div.find('a')\n",
    "        href = link.attrs['href'] \n",
    "        new_list.append(href)\n",
    "    return new_list\n",
    "            "
   ]
  },
  {
   "cell_type": "code",
   "execution_count": null,
   "metadata": {},
   "outputs": [
    {
     "name": "stderr",
     "output_type": "stream",
     "text": [
      "[Parallel(n_jobs=-1)]: Using backend LokyBackend with 8 concurrent workers.\n",
      "[Parallel(n_jobs=-1)]: Done  16 tasks      | elapsed:    9.3s\n",
      "[Parallel(n_jobs=-1)]: Done 112 tasks      | elapsed:   27.4s\n",
      "[Parallel(n_jobs=-1)]: Done 272 tasks      | elapsed:   54.5s\n",
      "[Parallel(n_jobs=-1)]: Done 496 tasks      | elapsed:  1.6min\n"
     ]
    }
   ],
   "source": [
    "all_list = list()\n",
    "a=range(1,100)\n",
    "b=range(1,4000)\n",
    "for i in a:\n",
    "    try:\n",
    "        resultList = joblib.Parallel(n_jobs=-1, verbose=3)( [joblib.delayed(joblib_url)(i,z) for z  in b])\n",
    "    except:\n",
    "        pass\n",
    "    all_list.extend(resultList)    "
   ]
  },
  {
   "cell_type": "code",
   "execution_count": null,
   "metadata": {},
   "outputs": [],
   "source": [
    "new_all_list = list(itertools.chain.from_iterable(all_list))"
   ]
  },
  {
   "cell_type": "code",
   "execution_count": null,
   "metadata": {},
   "outputs": [],
   "source": [
    "kekka = pd.DataFrame(new_all_list,columns=[\"url\"])\n",
    "kekka"
   ]
  },
  {
   "cell_type": "code",
   "execution_count": null,
   "metadata": {},
   "outputs": [],
   "source": [
    "url_key = kekka[\"url\"]"
   ]
  },
  {
   "cell_type": "code",
   "execution_count": null,
   "metadata": {},
   "outputs": [],
   "source": [
    "url_key"
   ]
  },
  {
   "cell_type": "code",
   "execution_count": null,
   "metadata": {},
   "outputs": [],
   "source": [
    "def joblib_get_data(z):\n",
    "    url = houjinnmei = shokushu = gyoukai = juusho = dennwabanngou = Web_url = \"\"\n",
    "    new_list = list()\n",
    "    url = \"https://townwork.net/\"+url_key[z]\n",
    "    r = requests.get(url)\n",
    "    soup = BeautifulSoup(r.text, \"lxml\")\n",
    "    k=[]\n",
    "    for i in range(500):\n",
    "        try:\n",
    "            juusho = soup.select_one(\"#js-detailArea > div:nth-child({}) > div > dl:nth-child(1) > dd > p \".format(i)).get_text()\n",
    "            k.append(i)\n",
    "       \n",
    "        except:\n",
    "            pass\n",
    "    kk=max(k,default=10)\n",
    "    try:\n",
    "        houjinnmei = soup.select_one(\"#js-detailArea > div:nth-child({}) > div > dl:nth-child(1) > dd > p\".format(kk)).get_text()\n",
    "    except:\n",
    "        houjinnmei = \"\"\n",
    "    try:\n",
    "        shokushu = soup.select_one(\"#js-detailArea > div.job-detail-box-inner > div.job-detail-box-container > div.job-detail-tbl-wrap.job-detail-tbl-main-wrap > dl:nth-child(1) > dd > p > span\").get_text()\n",
    "    except:\n",
    "        shokushu = \"\"\n",
    "    try:\n",
    "        juusho = soup.select_one(\"#js-detailArea > div:nth-child({}) > div > dl:nth-child(3) > dd > p\".format(kk)).get_text()\n",
    "    except:\n",
    "        juusho = \"\"\n",
    "    try:\n",
    "        dennwabanngou = soup.select_one(\"#js-detailArea > form > div > ul > li.detail-tel-box.jsc-phone-popup > p.detail-tel-ttl > span\").get_text().split()\n",
    "    except:\n",
    "        dennwabanngou = \"\"\n",
    "    try:\n",
    "        gyoukai = soup.select_one(\"#js-detailArea > div:nth-child({}) > div > dl:nth-child(2) > dd > p\".format(kk)).get_text()\n",
    "    except:\n",
    "        gyoukai = \"\"\n",
    "    try:\n",
    "        Web_url = soup.select_one(\"#js-detailArea > div:nth-child({}) > div > dl:nth-child(4) > dd > a\".format(kk)).get_text()\n",
    "    except:\n",
    "        Web_url = \"\"\n",
    "    new_list.append(houjinnmei)\n",
    "    new_list.append(shokushu)\n",
    "    new_list.append(gyoukai)\n",
    "    new_list.append(juusho)\n",
    "    new_list.append(dennwabanngou)\n",
    "    new_list.append(Web_url)\n",
    "    new_list.append(url)\n",
    "    return new_list"
   ]
  },
  {
   "cell_type": "code",
   "execution_count": null,
   "metadata": {},
   "outputs": [],
   "source": [
    "all_list = ()\n",
    "resultList = joblib.Parallel(n_jobs=-1, verbose=3)([joblib.delayed(joblib_get_data)(z) for z in range(len(url_key))])\n",
    "all_list.extend(resultList)"
   ]
  },
  {
   "cell_type": "code",
   "execution_count": null,
   "metadata": {},
   "outputs": [],
   "source": [
    "df_kekka = pd.DataFrame(all_list,columns=[\"法人名\",\"職種\",\"業界\",\"住所\",\"電話番号\",\"webURL\",\"ページurl\"])\n",
    "df_kekka"
   ]
  }
 ],
 "metadata": {
  "kernelspec": {
   "display_name": "Python 3",
   "language": "python",
   "name": "python3"
  },
  "language_info": {
   "codemirror_mode": {
    "name": "ipython",
    "version": 3
   },
   "file_extension": ".py",
   "mimetype": "text/x-python",
   "name": "python",
   "nbconvert_exporter": "python",
   "pygments_lexer": "ipython3",
   "version": "3.7.6"
  }
 },
 "nbformat": 4,
 "nbformat_minor": 4
}
