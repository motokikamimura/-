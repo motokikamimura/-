{
 "cells": [
  {
   "cell_type": "code",
   "execution_count": 1,
   "metadata": {},
   "outputs": [],
   "source": [
    "#yt = β1 + β2xt + σt, β0 = (β1, β2) = (0.03, 0.5)\n",
    "#但し、σ\u000b",
    "t は独立に同一の正規分布に従い、その平均は０、分散は１\n",
    "# xt ∼ N(0.1, 0.092) として、xt の乱数を 14 個生成し、同時に、\n",
    "#t の乱数も 14 個生成し、これらを使って yt を 14 個生成する\n",
    "#こうして生成された {(yt, xt)}1≤t≤50 を用いて、β0 の最小二乗推定値 \n",
    "import numpy as np\n",
    "import scipy as sp\n",
    "from scipy import optimize\n",
    "\n"
   ]
  },
  {
   "cell_type": "code",
   "execution_count": 7,
   "metadata": {},
   "outputs": [],
   "source": [
    "X=np.ones((50,2))\n",
    "X[:,1]=np.random.normal(0.1,0.09,50)\n",
    "σt=np.random.normal(0,1,50)\n",
    "β=np.array([0.03,0.5]).T\n",
    "y=np.dot(X,β)+σt"
   ]
  },
  {
   "cell_type": "code",
   "execution_count": 12,
   "metadata": {},
   "outputs": [
    {
     "data": {
      "text/plain": [
       "array([ 0.36785178, -1.42200405])"
      ]
     },
     "execution_count": 12,
     "metadata": {},
     "output_type": "execute_result"
    }
   ],
   "source": [
    "#B= (X'*X)^−1*X'y\n",
    "X_2=np.dot(X.T,X)\n",
    "XXin=np.linalg.inv(X_2)\n",
    "Bhat=np.dot(np.dot(XXin,X.T),y)\n",
    "Bhat"
   ]
  },
  {
   "cell_type": "code",
   "execution_count": 34,
   "metadata": {},
   "outputs": [],
   "source": [
    "Bhat__1_1=[]\n",
    "Bhat__2_1=[]\n",
    "for i in range (100):\n",
    "    X=np.ones((50,2))\n",
    "    X[:,1]=np.random.normal(0.1,0.09,50)\n",
    "    σt=np.random.normal(0,1,50)\n",
    "    β=np.array([0.03,0.5]).T\n",
    "    y=np.dot(X,β)+σt\n",
    "    X_2=np.dot(X.T,X)\n",
    "    XXin=np.linalg.inv(X_2)\n",
    "    Bhat=np.dot(np.dot(XXin,X.T),y)\n",
    "    Bhat__1_1.append(Bhat[0])\n",
    "    Bhat__2_1.append(Bhat[1])"
   ]
  },
  {
   "cell_type": "code",
   "execution_count": 36,
   "metadata": {},
   "outputs": [],
   "source": [
    "Bhat__1_2=[]\n",
    "Bhat__2_2=[]\n",
    "for i in range (100):\n",
    "    X=np.ones((100,2))\n",
    "    X[:,1]=np.random.normal(0.1,0.09,100)\n",
    "    σt=np.random.normal(0,1,100)\n",
    "    β=np.array([0.03,0.5]).T\n",
    "    y=np.dot(X,β)+σt\n",
    "    X_2=np.dot(X.T,X)\n",
    "    XXin=np.linalg.inv(X_2)\n",
    "    Bhat=np.dot(np.dot(XXin,X.T),y)\n",
    "    Bhat__1_2.append(Bhat[0])\n",
    "    Bhat__2_2.append(Bhat[1])"
   ]
  },
  {
   "cell_type": "code",
   "execution_count": 37,
   "metadata": {},
   "outputs": [],
   "source": [
    "Bhat__1_3=[]\n",
    "Bhat__2_3=[]\n",
    "for i in range (100):\n",
    "    X=np.ones((200,2))\n",
    "    X[:,1]=np.random.normal(0.1,0.09,200)\n",
    "    σt=np.random.normal(0,1,200)\n",
    "    β=np.array([0.03,0.5]).T\n",
    "    y=np.dot(X,β)+σt\n",
    "    X_2=np.dot(X.T,X)\n",
    "    XXin=np.linalg.inv(X_2)\n",
    "    Bhat=np.dot(np.dot(XXin,X.T),y)\n",
    "    Bhat__1_3.append(Bhat[0])\n",
    "    Bhat__2_3.append(Bhat[1])"
   ]
  },
  {
   "cell_type": "code",
   "execution_count": 38,
   "metadata": {},
   "outputs": [
    {
     "name": "stdout",
     "output_type": "stream",
     "text": [
      "-0.004719268628091935\n"
     ]
    },
    {
     "data": {
      "text/plain": [
       "0.7095411530366169"
      ]
     },
     "execution_count": 38,
     "metadata": {},
     "output_type": "execute_result"
    }
   ],
   "source": [
    "print(np.average(Bhat__1_1))\n",
    "np.average(Bhat__2_1)"
   ]
  },
  {
   "cell_type": "code",
   "execution_count": 39,
   "metadata": {},
   "outputs": [
    {
     "name": "stdout",
     "output_type": "stream",
     "text": [
      "0.0478667681416886\n"
     ]
    },
    {
     "data": {
      "text/plain": [
       "2.4842422451174846"
      ]
     },
     "execution_count": 39,
     "metadata": {},
     "output_type": "execute_result"
    }
   ],
   "source": [
    "print(np.var(Bhat__1_1))\n",
    "np.var(Bhat__2_1)"
   ]
  },
  {
   "cell_type": "code",
   "execution_count": 40,
   "metadata": {},
   "outputs": [
    {
     "name": "stdout",
     "output_type": "stream",
     "text": [
      "0.02654965838508183\n"
     ]
    },
    {
     "data": {
      "text/plain": [
       "0.45900787426555434"
      ]
     },
     "execution_count": 40,
     "metadata": {},
     "output_type": "execute_result"
    }
   ],
   "source": [
    "print(np.average(Bhat__1_2))\n",
    "np.average(Bhat__2_2)"
   ]
  },
  {
   "cell_type": "code",
   "execution_count": 42,
   "metadata": {},
   "outputs": [
    {
     "name": "stdout",
     "output_type": "stream",
     "text": [
      "0.020299559305346996\n"
     ]
    },
    {
     "data": {
      "text/plain": [
       "1.192195889086704"
      ]
     },
     "execution_count": 42,
     "metadata": {},
     "output_type": "execute_result"
    }
   ],
   "source": [
    "print(np.var(Bhat__1_2))\n",
    "np.var(Bhat__2_2)"
   ]
  },
  {
   "cell_type": "code",
   "execution_count": 41,
   "metadata": {},
   "outputs": [
    {
     "name": "stdout",
     "output_type": "stream",
     "text": [
      "0.03279520781816635\n"
     ]
    },
    {
     "data": {
      "text/plain": [
       "0.5032956497802017"
      ]
     },
     "execution_count": 41,
     "metadata": {},
     "output_type": "execute_result"
    }
   ],
   "source": [
    "print(np.average(Bhat__1_3))\n",
    "np.average(Bhat__2_3)"
   ]
  },
  {
   "cell_type": "code",
   "execution_count": 53,
   "metadata": {},
   "outputs": [
    {
     "name": "stdout",
     "output_type": "stream",
     "text": [
      "0.009335741554932235\n"
     ]
    },
    {
     "data": {
      "text/plain": [
       "0.4517877343817325"
      ]
     },
     "execution_count": 53,
     "metadata": {},
     "output_type": "execute_result"
    }
   ],
   "source": [
    "print(np.var(Bhat__1_3))\n",
    "np.var(Bhat__2_3)"
   ]
  },
  {
   "cell_type": "code",
   "execution_count": 46,
   "metadata": {},
   "outputs": [
    {
     "data": {
      "text/plain": [
       "(array([ 2.,  0.,  3., 10., 12., 22., 19., 15., 13.,  4.]),\n",
       " array([-0.69616734, -0.58188883, -0.46761033, -0.35333182, -0.23905331,\n",
       "        -0.1247748 , -0.0104963 ,  0.10378221,  0.21806072,  0.33233922,\n",
       "         0.44661773]),\n",
       " <a list of 10 Patch objects>)"
      ]
     },
     "execution_count": 46,
     "metadata": {},
     "output_type": "execute_result"
    },
    {
     "data": {
      "image/png": "[encoded data removed]",
      "text/plain": [
       "<Figure size 432x288 with 1 Axes>"
      ]
     },
     "metadata": {
      "needs_background": "light"
     },
     "output_type": "display_data"
    }
   ],
   "source": [
    "import matplotlib as mpl\n",
    "import seaborn as sns\n",
    "import matplotlib.pyplot as plt\n",
    "plt.hist(Bhat__1_1)"
   ]
  },
  {
   "cell_type": "code",
   "execution_count": 48,
   "metadata": {},
   "outputs": [
    {
     "data": {
      "text/plain": [
       "(array([ 2.,  7.,  5.,  9., 17., 24., 15.,  9.,  9.,  3.]),\n",
       " array([-0.34006765, -0.27152423, -0.20298081, -0.13443739, -0.06589397,\n",
       "         0.00264945,  0.07119287,  0.13973629,  0.20827971,  0.27682313,\n",
       "         0.34536655]),\n",
       " <a list of 10 Patch objects>)"
      ]
     },
     "execution_count": 48,
     "metadata": {},
     "output_type": "execute_result"
    },
    {
     "data": {
      "image/png": "[encoded data removed]",
      "text/plain": [
       "<Figure size 432x288 with 1 Axes>"
      ]
     },
     "metadata": {
      "needs_background": "light"
     },
     "output_type": "display_data"
    }
   ],
   "source": [
    "plt.hist(Bhat__1_2)"
   ]
  },
  {
   "cell_type": "code",
   "execution_count": 49,
   "metadata": {},
   "outputs": [
    {
     "data": {
      "text/plain": [
       "(array([ 4.,  3.,  7., 11., 17., 18., 18., 14.,  5.,  3.]),\n",
       " array([-3.28152186, -2.529402  , -1.77728215, -1.0251623 , -0.27304244,\n",
       "         0.47907741,  1.23119726,  1.98331712,  2.73543697,  3.48755682,\n",
       "         4.23967668]),\n",
       " <a list of 10 Patch objects>)"
      ]
     },
     "execution_count": 49,
     "metadata": {},
     "output_type": "execute_result"
    },
    {
     "data": {
      "image/png": "[encoded data removed]",
      "text/plain": [
       "<Figure size 432x288 with 1 Axes>"
      ]
     },
     "metadata": {
      "needs_background": "light"
     },
     "output_type": "display_data"
    }
   ],
   "source": [
    "plt.hist(Bhat__2_1)"
   ]
  },
  {
   "cell_type": "code",
   "execution_count": 50,
   "metadata": {},
   "outputs": [
    {
     "data": {
      "text/plain": [
       "(array([ 3.,  4., 13., 19., 18., 16., 11.,  4.,  3.,  9.]),\n",
       " array([-1.98270243, -1.49119105, -0.99967967, -0.50816829, -0.01665691,\n",
       "         0.47485447,  0.96636585,  1.45787723,  1.94938861,  2.44089999,\n",
       "         2.93241137]),\n",
       " <a list of 10 Patch objects>)"
      ]
     },
     "execution_count": 50,
     "metadata": {},
     "output_type": "execute_result"
    },
    {
     "data": {
      "image/png": "[encoded data removed]",
      "text/plain": [
       "<Figure size 432x288 with 1 Axes>"
      ]
     },
     "metadata": {
      "needs_background": "light"
     },
     "output_type": "display_data"
    }
   ],
   "source": [
    "plt.hist(Bhat__2_2)"
   ]
  },
  {
   "cell_type": "code",
   "execution_count": 51,
   "metadata": {},
   "outputs": [
    {
     "data": {
      "text/plain": [
       "(array([ 2.,  0.,  6., 13., 17., 14., 18., 13., 11.,  6.]),\n",
       " array([-0.23469631, -0.18825824, -0.14182017, -0.0953821 , -0.04894403,\n",
       "        -0.00250596,  0.04393211,  0.09037018,  0.13680825,  0.18324632,\n",
       "         0.22968439]),\n",
       " <a list of 10 Patch objects>)"
      ]
     },
     "execution_count": 51,
     "metadata": {},
     "output_type": "execute_result"
    },
    {
     "data": {
      "image/png": "[encoded data removed]",
      "text/plain": [
       "<Figure size 432x288 with 1 Axes>"
      ]
     },
     "metadata": {
      "needs_background": "light"
     },
     "output_type": "display_data"
    }
   ],
   "source": [
    "plt.hist(Bhat__1_3)"
   ]
  },
  {
   "cell_type": "code",
   "execution_count": 52,
   "metadata": {},
   "outputs": [
    {
     "data": {
      "text/plain": [
       "(array([ 3.,  3., 14., 14., 19., 10., 15., 14.,  5.,  3.]),\n",
       " array([-1.05651715, -0.74600643, -0.4354957 , -0.12498498,  0.18552575,\n",
       "         0.49603648,  0.8065472 ,  1.11705793,  1.42756865,  1.73807938,\n",
       "         2.0485901 ]),\n",
       " <a list of 10 Patch objects>)"
      ]
     },
     "execution_count": 52,
     "metadata": {},
     "output_type": "execute_result"
    },
    {
     "data": {
      "image/png": "[encoded data removed]",
      "text/plain": [
       "<Figure size 432x288 with 1 Axes>"
      ]
     },
     "metadata": {
      "needs_background": "light"
     },
     "output_type": "display_data"
    }
   ],
   "source": [
    "plt.hist(Bhat__2_3)"
   ]
  },
  {
   "cell_type": "code",
   "execution_count": null,
   "metadata": {},
   "outputs": [],
   "source": []
  }
 ],
 "metadata": {
  "kernelspec": {
   "display_name": "Python 3",
   "language": "python",
   "name": "python3"
  },
  "language_info": {
   "codemirror_mode": {
    "name": "ipython",
    "version": 3
   },
   "file_extension": ".py",
   "mimetype": "text/x-python",
   "name": "python",
   "nbconvert_exporter": "python",
   "pygments_lexer": "ipython3",
   "version": "3.7.6"
  }
 },
 "nbformat": 4,
 "nbformat_minor": 4
}
