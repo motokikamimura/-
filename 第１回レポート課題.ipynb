{
  "nbformat": 4,
  "nbformat_minor": 0,
  "metadata": {
    "colab": {
      "name": "第１回レポート課題 tei.ipynb",
      "provenance": [],
      "collapsed_sections": []
    },
    "kernelspec": {
      "display_name": "Python 3",
      "language": "python",
      "name": "python3"
    },
    "language_info": {
      "codemirror_mode": {
        "name": "ipython",
        "version": 3
      },
      "file_extension": ".py",
      "mimetype": "text/x-python",
      "name": "python",
      "nbconvert_exporter": "python",
      "pygments_lexer": "ipython3",
      "version": "3.7.6"
    }
  },
  "cells": [
    {
      "cell_type": "markdown",
      "metadata": {
        "id": "elUGgVQ-dR5B"
      },
      "source": [
        "# レポート提出について\n",
        "\n",
        "このレポートでは、下記の講義サポートサイトの第３回講義のセクションから、「都道府県別人口データ（演習用）」のファイルをダウンロードし、「data.csv」という名前でこのノートのファイルブラウザにアップロードした状態を想定して、解答プログラムを記述するものとする。\n",
        "\n",
        "> https://sites.google.com/view/tus-programming-2/\n",
        "\n",
        "このファイルには、平成17年から平成29年までの都道府県別・男女別の千人単位での人口のデータが含まれている。このファイルがプログラムを実行するカレントディレクトリにあると仮定した上で、以下の問いに答えるプログラムを与えよ。\n",
        "\n",
        "答えとなるプログラムは、それぞれの解答欄のコードセルに入力し、解答記入後のノートを .ipynb ファイルとしてダウンロードして、メール添付で提出するものとする。提出先メールアドレスは下記の通りである。\n",
        "\n",
        "> kengo-zenitani-tus@academic.mail-box.ne.jp\n",
        "\n",
        "なお、提出の際、以下に留意すること。\n",
        "\n",
        "* メールの Subject 欄でどの講義（「プログラミング論２」）のどの回のレポートについての解答提出なのかを明記すること。\n",
        "* 提出者の学籍番号と氏名が分かるよう下記のフォームに入力すること。\n",
        "* 各プログラムが100行を超えないようにすること。\n",
        "\n",
        "提出期限については講義サポートサイトの記載を確認すること。"
      ]
    },
    {
      "cell_type": "code",
      "metadata": {
        "cellView": "form",
        "id": "epRGBxxHVkJa"
      },
      "source": [
        "#@title 提出者\n",
        "_学籍番号_ =  8718033#@param {type:\"integer\"}\n",
        "_氏名_ =  \"\\u4E0A\\u6751\\u57FA\\u8A18\"#@param {type:\"string\"}\n"
      ],
      "execution_count": null,
      "outputs": []
    },
    {
      "cell_type": "markdown",
      "metadata": {
        "id": "JyGURZ12d04i"
      },
      "source": [
        "# 第１問\n",
        "\n",
        "平成22年の都道府県別人口の内、男女の合計人口の絶対値の最大値・最小値を求めるプログラムを与えよ。正しいプログラムは次の結果を出力する。\n"
      ]
    },
    {
      "cell_type": "code",
      "metadata": {
        "cellView": "form",
        "id": "AoJnW-1m-da1",
        "outputId": "9b3a2554-f318-48b4-c3e2-cf80346f8d01",
        "colab": {
          "base_uri": "https://localhost:8080/",
          "height": 51
        }
      },
      "source": [
        "#@title 解答例"
      ],
      "execution_count": null,
      "outputs": [
        {
          "output_type": "stream",
          "text": [
            "Max =  13159000\n",
            "Min =  589000\n"
          ],
          "name": "stdout"
        }
      ]
    },
    {
      "cell_type": "markdown",
      "metadata": {
        "id": "cZI4Ttusd7i8"
      },
      "source": [
        "## 解答欄"
      ]
    },
    {
      "cell_type": "code",
      "metadata": {
        "id": "b1I8H_fveAbO",
        "outputId": "4448ab5f-ffd4-4992-e2ba-b022e0a402a5",
        "colab": {
          "resources": {
            "http://localhost:8080/nbextensions/google.colab/files.js": {
              "data": "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",
              "ok": true,
              "headers": [
                [
                  "content-type",
                  "application/javascript"
                ]
              ],
              "status": 200,
              "status_text": ""
            }
          },
          "base_uri": "https://localhost:8080/",
          "height": 113
        }
      },
      "source": [
        "#今回のデータ\n",
        "from google.colab import files\n",
        "files.upload()\n",
        "import codecs\n",
        "import csv\n",
        "from pprint import pprint\n",
        "\n",
        "populations = []\n",
        "with codecs.open('data.csv', 'r', 'shift_jis') as fp:\n",
        "    rows = list(csv.reader(fp))[1:]\n",
        "    for i in range(47):\n",
        "        prefecture_name = rows[i + 1][3]\n",
        "        prefecture_populations = []\n",
        "        for j in range(5):\n",
        "            male_population = int(rows[i + 1][5 + j].replace(',', '')) * 1000\n",
        "            female_population = int(rows[i + 49][5 + j].replace(',', '')) * 1000\n",
        "            prefecture_populations.append([male_population, female_population])\n",
        "        populations.append([prefecture_name, prefecture_populations])\n",
        "h22_populations = []\n",
        "\n",
        "\n",
        "for row in populations:\n",
        "    # v1, v2, …, vn = [d1, d2, …, dn]\n",
        "    prefecture_name, yearly_populations = row\n",
        "    # yearly_populations には各年度の男女別人口が入っている。\n",
        "    male_population, female_population = yearly_populations[1]\n",
        "    h22_populations.append([prefecture_name, male_population+female_population])\n",
        "\n",
        "maybe_max_population = h22_populations[0][1]\n",
        "\n",
        "for row in h22_populations:\n",
        "    if maybe_max_population < row[1]:  # row[0] が都道府県名で row[1] が人口\n",
        "        maybe_max_population = row[1]\n",
        "\n",
        "maybe_min_population = h22_populations[0][1]\n",
        "\n",
        "for row in h22_populations:\n",
        "    if maybe_min_population > row[1]:  # row[0] が都道府県名で row[1] が人口\n",
        "        maybe_min_population = row[1]\n",
        "\n",
        "print('Max = {}'.format(maybe_max_population))\n",
        "\n",
        "print('Min = {}'.format(maybe_min_population))\n"
      ],
      "execution_count": 17,
      "outputs": [
        {
          "output_type": "display_data",
          "data": {
            "text/html": [
              "\n",
              "     <input type=\"file\" id=\"files-f6ea64c5-7a8c-46b8-bf21-4971d10550ad\" name=\"files[]\" multiple disabled\n",
              "        style=\"border:none\" />\n",
              "     <output id=\"result-f6ea64c5-7a8c-46b8-bf21-4971d10550ad\">\n",
              "      Upload widget is only available when the cell has been executed in the\n",
              "      current browser session. Please rerun this cell to enable.\n",
              "      </output>\n",
              "      <script src=\"/nbextensions/google.colab/files.js\"></script> "
            ],
            "text/plain": [
              "<IPython.core.display.HTML object>"
            ]
          },
          "metadata": {
            "tags": []
          }
        },
        {
          "output_type": "stream",
          "text": [
            "Saving data.csv to data (2).csv\n",
            "Max = 13159000\n",
            "Min = 589000\n"
          ],
          "name": "stdout"
        }
      ]
    },
    {
      "cell_type": "markdown",
      "metadata": {
        "id": "IQXCEZmae9FR"
      },
      "source": [
        "# 第２問\n",
        "\n",
        "平成17年の男女計の都道府県別人口の平均と標準偏差を求め、平均から±１標準偏差の範囲内に収まらない都道府県名の一覧を求めるプログラムを与えよ。正しいプログラムは次の結果を出力する。"
      ]
    },
    {
      "cell_type": "code",
      "metadata": {
        "cellView": "form",
        "id": "kQAuwLrjNuNJ",
        "outputId": "b5f35061-0305-4e38-d506-b967a9e809da",
        "colab": {
          "base_uri": "https://localhost:8080/",
          "height": 34
        }
      },
      "source": [
        "#@title 解答例"
      ],
      "execution_count": null,
      "outputs": [
        {
          "output_type": "stream",
          "text": [
            "['北海道', '埼玉県', '千葉県', '東京都', '神奈川県', '愛知県', '大阪府', '兵庫県']\n"
          ],
          "name": "stdout"
        }
      ]
    },
    {
      "cell_type": "markdown",
      "metadata": {
        "id": "OigKIbGofRx-"
      },
      "source": [
        "## 解答欄"
      ]
    },
    {
      "cell_type": "code",
      "metadata": {
        "id": "dFQNsnXyfTNl",
        "outputId": "7d6913f3-bad6-4826-e30b-7cd6a9de0789",
        "colab": {
          "base_uri": "https://localhost:8080/",
          "height": 35
        }
      },
      "source": [
        "from statistics import mean, variance, stdev\n",
        "h17_populations = []\n",
        "\n",
        "for row in populations:\n",
        "    # v1, v2, …, vn = [d1, d2, …, dn]\n",
        "    prefecture_name, yearly_populations = row\n",
        "    # yearly_populations には各年度の男女別人口が入っている。\n",
        "    male_population, female_population = yearly_populations[0]\n",
        "    population=male_population+female_population\n",
        "    h17_populations.append([prefecture_name,population])\n",
        "\n",
        "S = [population for prefecture_name, population in h17_populations]\n",
        "\n",
        "todoufukenn=[]\n",
        "for row in h17_populations:\n",
        "    factors = []\n",
        "    if row[1]<mean(S)-stdev(S):\n",
        "      todoufukenn.append(row[0])\n",
        "    elif row[1]>mean(S)+stdev(S):\n",
        "      todoufukenn.append(row[0])\n",
        "print(todoufukenn)\n",
        "\n",
        "\n"
      ],
      "execution_count": 18,
      "outputs": [
        {
          "output_type": "stream",
          "text": [
            "['北海道', '埼玉県', '千葉県', '東京都', '神奈川県', '愛知県', '大阪府', '兵庫県']\n"
          ],
          "name": "stdout"
        }
      ]
    },
    {
      "cell_type": "markdown",
      "metadata": {
        "id": "JCbKWLnEfmDa"
      },
      "source": [
        "# 第３問\n",
        "\n",
        "平成27年の各都道府県の女性人口を男性人口で割った人口の男女比の平均と標準偏差を求め、男女の合計人口が500万人を超え、かつ、人口の男女比が平均から±１標準偏差の範囲内に収まる都道府県名の一覧を特定するプログラムを与えよ。正しいプログラムは次の結果を出力する。"
      ]
    },
    {
      "cell_type": "code",
      "metadata": {
        "cellView": "form",
        "id": "E-vASb5YNvjZ",
        "outputId": "feeb07c7-0a3b-4786-b059-92cfcbb74222",
        "colab": {
          "base_uri": "https://localhost:8080/",
          "height": 34
        }
      },
      "source": [
        "#@title 解答例"
      ],
      "execution_count": null,
      "outputs": [
        {
          "output_type": "stream",
          "text": [
            "['大阪府', '兵庫県', '福岡県']\n"
          ],
          "name": "stdout"
        }
      ]
    },
    {
      "cell_type": "markdown",
      "metadata": {
        "id": "7zA36oaPfvq3"
      },
      "source": [
        "## 解答欄"
      ]
    },
    {
      "cell_type": "code",
      "metadata": {
        "id": "uSRIQrv8fw-J",
        "outputId": "f789d7df-d030-4dab-a4f8-922cbe3c0471",
        "colab": {
          "base_uri": "https://localhost:8080/",
          "height": 35
        }
      },
      "source": [
        "from statistics import mean, variance, stdev\n",
        "h27_populations = []\n",
        "\n",
        "for row in populations:\n",
        "    # v1, v2, …, vn = [d1, d2, …, dn]\n",
        "    prefecture_name, yearly_populations = row\n",
        "    # yearly_populations には各年度の男女別人口が入っている。\n",
        "    male_population, female_population = yearly_populations[2]\n",
        "    goukei=male_population+female_population\n",
        "    hiritu=female_population/male_population\n",
        "    h27_populations.append([prefecture_name,goukei,hiritu])\n",
        "\n",
        "S = [hiritu for prefecture_name, goukei,hiritu in h27_populations]\n",
        "zyoukenn1=[]\n",
        "for row in h27_populations:\n",
        "    if row[1]>5000000:\n",
        "        zyoukenn1.append(row)\n",
        "zyoukenn2=[]\n",
        "for row in zyoukenn1:\n",
        "    if mean(S)-stdev(S)<row[2]<mean(S)+stdev(S):\n",
        "        zyoukenn2.append(row[0])\n",
        "zyoukenn2\n"
      ],
      "execution_count": 19,
      "outputs": [
        {
          "output_type": "execute_result",
          "data": {
            "text/plain": [
              "['大阪府', '兵庫県', '福岡県']"
            ]
          },
          "metadata": {
            "tags": []
          },
          "execution_count": 19
        }
      ]
    },
    {
      "cell_type": "markdown",
      "metadata": {
        "id": "WNumqwN6gGC5"
      },
      "source": [
        "# 第４問\n",
        "\n",
        "平成22年と平成29年の各都道府県の総人口を比較し、各都道府県における流入・流出人口を推定するプログラムを与えよ。この推定の際には各都道府県で流入・流出とは別に発生していた人口の自然増・自然減を参照する必要があるが、日本の総人口を平成22年と平成29年とで比較して得られる全体の増加率または減少率が、各都道府県における自然増減率であったと仮定せよ。正しいプログラムは次の結果を出力する。"
      ]
    },
    {
      "cell_type": "code",
      "metadata": {
        "cellView": "form",
        "id": "N0qf05xwXZkl",
        "outputId": "9cf85858-a15b-4c36-81b4-cbd3649be9cf",
        "colab": {
          "base_uri": "https://localhost:8080/",
          "height": 816
        }
      },
      "source": [
        "#@title 解答例１"
      ],
      "execution_count": null,
      "outputs": [
        {
          "output_type": "stream",
          "text": [
            "[['北海道', -128084],\n",
            " ['青森県', -80557],\n",
            " ['岩手県', -61010],\n",
            " ['宮城県', -291],\n",
            " ['秋田県', -78576],\n",
            " ['山形県', -54703],\n",
            " ['福島県', -124657],\n",
            " ['茨城県', -46759],\n",
            " ['栃木県', -29878],\n",
            " ['群馬県', -26878],\n",
            " ['埼玉県', 190682],\n",
            " ['千葉県', 95385],\n",
            " ['東京都', 703416],\n",
            " ['神奈川県', 205184],\n",
            " ['新潟県', -82028],\n",
            " ['富山県', -27492],\n",
            " ['石川県', -10693],\n",
            " ['福井県', -19511],\n",
            " ['山梨県', -30911],\n",
            " ['長野県', -53363],\n",
            " ['岐阜県', -51110],\n",
            " ['静岡県', -49397],\n",
            " ['愛知県', 192944],\n",
            " ['三重県', -34498],\n",
            " ['滋賀県', 16842],\n",
            " ['京都府', -9272],\n",
            " ['大阪府', 51259],\n",
            " ['兵庫県', -26221],\n",
            " ['奈良県', -38273],\n",
            " ['和歌山県', -46460],\n",
            " ['鳥取県', -17804],\n",
            " ['島根県', -24458],\n",
            " ['岡山県', -17541],\n",
            " ['広島県', -1906],\n",
            " ['山口県', -53737],\n",
            " ['徳島県', -34732],\n",
            " ['香川県', -17523],\n",
            " ['愛媛県', -51947],\n",
            " ['高知県', -42963],\n",
            " ['福岡県', 88351],\n",
            " ['佐賀県', -18059],\n",
            " ['長崎県', -57989],\n",
            " ['熊本県', -32877],\n",
            " ['大分県', -31409],\n",
            " ['宮崎県', -34061],\n",
            " ['鹿児島県', -62055],\n",
            " ['沖縄県', 65642]]\n"
          ],
          "name": "stdout"
        }
      ]
    },
    {
      "cell_type": "markdown",
      "metadata": {
        "id": "8kKQRSLzr5Ij"
      },
      "source": [
        "### 解答例２\n",
        "\n",
        "上記問題文における「総人口」の求め方に解釈の余地があったため、次の出力も正しいものとして許容する。\n",
        "\n",
        "```\n",
        "[['北海道', -127869],\n",
        " ['青森県', -80504],\n",
        " ['岩手県', -60958],\n",
        " ['宮城県', -199],\n",
        " ['秋田県', -78534],\n",
        " ['山形県', -54658],\n",
        " ['福島県', -124578],\n",
        " ['茨城県', -46643],\n",
        " ['栃木県', -29800],\n",
        " ['群馬県', -26800],\n",
        " ['埼玉県', 190963],\n",
        " ['千葉県', 95627],\n",
        " ['東京都', 703929],\n",
        " ['神奈川県', 205537],\n",
        " ['新潟県', -81935],\n",
        " ['富山県', -27449],\n",
        " ['石川県', -10647],\n",
        " ['福井県', -19479],\n",
        " ['山梨県', -30878],\n",
        " ['長野県', -53279],\n",
        " ['岐阜県', -51029],\n",
        " ['静岡県', -49250],\n",
        " ['愛知県', 193233],\n",
        " ['三重県', -34425],\n",
        " ['滋賀県', 16897],\n",
        " ['京都府', -9169],\n",
        " ['大阪府', 51605],\n",
        " ['兵庫県', -26003],\n",
        " ['奈良県', -38219],\n",
        " ['和歌山県', -46421],\n",
        " ['鳥取県', -17781],\n",
        " ['島根県', -24430],\n",
        " ['岡山県', -17465],\n",
        " ['広島県', -1794],\n",
        " ['山口県', -53680],\n",
        " ['徳島県', -34701],\n",
        " ['香川県', -17484],\n",
        " ['愛媛県', -51891],\n",
        " ['高知県', -42933],\n",
        " ['福岡県', 88549],\n",
        " ['佐賀県', -18025],\n",
        " ['長崎県', -57934],\n",
        " ['熊本県', -32806],\n",
        " ['大分県', -31362],\n",
        " ['宮崎県', -34016],\n",
        " ['鹿児島県', -61988],\n",
        " ['沖縄県', 65697]]\n",
        "```"
      ]
    },
    {
      "cell_type": "markdown",
      "metadata": {
        "id": "PfW0U5-Ggbdn"
      },
      "source": [
        "## 解答欄"
      ]
    },
    {
      "cell_type": "code",
      "metadata": {
        "id": "vjYq0ZihorvW",
        "outputId": "62ce25fe-494d-4c9e-ff02-b407d615f309",
        "colab": {
          "base_uri": "https://localhost:8080/",
          "height": 852
        }
      },
      "source": [
        "h22_29_populations = []\n",
        "pop22=0\n",
        "pop29=0\n",
        "#２２－２９のリストを作成。\n",
        "for row in populations:\n",
        "    prefecture_name, yearly_populations = row\n",
        "    male_population22, female_population22 = yearly_populations[1]\n",
        "    male_population29, female_population29 = yearly_populations[-1]\n",
        "    population22 = male_population22 + female_population22\n",
        "    population29 = male_population29 + female_population29\n",
        "    pop29 +=population29\n",
        "    pop22 +=population22\n",
        "    h22_29_populations.append([prefecture_name, population22, population29])\n",
        "kotae=[]\n",
        "for prefecture_name, population22, population29 in h22_29_populations:\n",
        "    rate=pop29/pop22\n",
        "    population22_29 = population29 - population22 *rate\n",
        "    population22_29 = round(population22_29)\n",
        "    kotae.append([prefecture_name, population22_29])\n",
        "\n",
        "pprint(kotae)"
      ],
      "execution_count": 20,
      "outputs": [
        {
          "output_type": "stream",
          "text": [
            "[['北海道', -128084],\n",
            " ['青森県', -80558],\n",
            " ['岩手県', -61010],\n",
            " ['宮城県', -292],\n",
            " ['秋田県', -78577],\n",
            " ['山形県', -54704],\n",
            " ['福島県', -124658],\n",
            " ['茨城県', -46760],\n",
            " ['栃木県', -29879],\n",
            " ['群馬県', -26879],\n",
            " ['埼玉県', 190682],\n",
            " ['千葉県', 95384],\n",
            " ['東京都', 703415],\n",
            " ['神奈川県', 205183],\n",
            " ['新潟県', -82029],\n",
            " ['富山県', -27493],\n",
            " ['石川県', -10693],\n",
            " ['福井県', -19511],\n",
            " ['山梨県', -30912],\n",
            " ['長野県', -53364],\n",
            " ['岐阜県', -51111],\n",
            " ['静岡県', -49397],\n",
            " ['愛知県', 192943],\n",
            " ['三重県', -34498],\n",
            " ['滋賀県', 16842],\n",
            " ['京都府', -9273],\n",
            " ['大阪府', 51259],\n",
            " ['兵庫県', -26222],\n",
            " ['奈良県', -38274],\n",
            " ['和歌山県', -46460],\n",
            " ['鳥取県', -17805],\n",
            " ['島根県', -24458],\n",
            " ['岡山県', -17541],\n",
            " ['広島県', -1906],\n",
            " ['山口県', -53737],\n",
            " ['徳島県', -34732],\n",
            " ['香川県', -17523],\n",
            " ['愛媛県', -51948],\n",
            " ['高知県', -42964],\n",
            " ['福岡県', 88351],\n",
            " ['佐賀県', -18059],\n",
            " ['長崎県', -57990],\n",
            " ['熊本県', -32877],\n",
            " ['大分県', -31409],\n",
            " ['宮崎県', -34061],\n",
            " ['鹿児島県', -62055],\n",
            " ['沖縄県', 65642]]\n"
          ],
          "name": "stdout"
        }
      ]
    }
  ]
}